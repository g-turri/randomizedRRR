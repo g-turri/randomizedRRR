{
 "cells": [
  {
   "cell_type": "code",
   "execution_count": 23,
   "metadata": {},
   "outputs": [],
   "source": [
    "import numpy as np\n",
    "from scipy.special import expit\n",
    "import scipy.stats\n",
    "from randomizedRRR.primal import fit_reduced_rank_regression_tikhonov, fit_rand_reduced_rank_regression_tikhonov\n",
    "import torch\n",
    "\n",
    "# I will realize a prototypical low-rank matrix using a sigmoid function\n",
    "def make_rand_mat(dim, decay_len, rank, seed = None):\n",
    "    x = np.arange(dim)\n",
    "    x-= rank\n",
    "    eigenvalues = expit(-x*6/decay_len)\n",
    "    U = scipy.stats.special_ortho_group.rvs(dim, random_state=seed)\n",
    "    return np.linalg.multi_dot([U, np.diag(eigenvalues), U.T])\n",
    "\n",
    "def make_dataset(mat, num_samples, sigma = 0.1, seed = None):\n",
    "    dim = mat.shape[0]\n",
    "    rng = np.random.default_rng(seed)\n",
    "    X = rng.multivariate_normal(np.zeros(dim), np.eye(dim), size=num_samples)\n",
    "    Y = (mat@X.T).T + rng.normal(0, sigma, size=(num_samples, dim))\n",
    "    return X, Y"
   ]
  },
  {
   "cell_type": "code",
   "execution_count": 24,
   "metadata": {},
   "outputs": [],
   "source": [
    "dim = 100\n",
    "num_samples = 1000\n",
    "decay_len = 3\n",
    "rank = 10\n",
    "\n",
    "G = make_rand_mat(dim, decay_len, rank, seed = 0)\n",
    "X, Y = make_dataset(G, num_samples, seed = 0)"
   ]
  },
  {
   "cell_type": "code",
   "execution_count": 25,
   "metadata": {},
   "outputs": [],
   "source": [
    "C_X = (X.T@X) / num_samples\n",
    "C_XY = (X.T@Y) / num_samples"
   ]
  },
  {
   "cell_type": "code",
   "execution_count": 32,
   "metadata": {},
   "outputs": [],
   "source": [
    "reg = 1e-9\n",
    "\n",
    "U = fit_reduced_rank_regression_tikhonov(torch.from_numpy(C_X),torch.from_numpy(C_XY), reg, rank + 3)\n",
    "\n",
    "G_hat = np.linalg.multi_dot([U, U.T, C_XY])"
   ]
  },
  {
   "cell_type": "code",
   "execution_count": 33,
   "metadata": {},
   "outputs": [
    {
     "data": {
      "text/plain": [
       "[<matplotlib.lines.Line2D at 0x298d42350>]"
      ]
     },
     "execution_count": 33,
     "metadata": {},
     "output_type": "execute_result"
    },
    {
     "data": {
      "image/png": "[encoded data removed]",
      "text/plain": [
       "<Figure size 640x480 with 1 Axes>"
      ]
     },
     "metadata": {},
     "output_type": "display_data"
    }
   ],
   "source": [
    "plt.plot(np.flip(np.linalg.eigvalsh(G)), '.', label = 'true eigenvalues')\n",
    "plt.plot(np.flip(np.linalg.eigvalsh(G_hat)), '.', label = 'estimated eigenvalues')"
   ]
  },
  {
   "cell_type": "markdown",
   "metadata": {},
   "source": [
    "Things to do:\n",
    "1. Write a `risk` function (copy from `kooplearn`)\n",
    "2. Resusciate the statistical error estimators from `randSVD_benchmarks.py`\n",
    "3. Do an equivalent of figure 1 with an additional panel on timings (and maybe another in eigenvalue estimation, given sharp-spectral rates)."
   ]
  }
 ],
 "metadata": {
  "kernelspec": {
   "display_name": "kooplearn",
   "language": "python",
   "name": "python3"
  },
  "language_info": {
   "codemirror_mode": {
    "name": "ipython",
    "version": 3
   },
   "file_extension": ".py",
   "mimetype": "text/x-python",
   "name": "python",
   "nbconvert_exporter": "python",
   "pygments_lexer": "ipython3",
   "version": "3.11.4"
  },
  "orig_nbformat": 4
 },
 "nbformat": 4,
 "nbformat_minor": 2
}
