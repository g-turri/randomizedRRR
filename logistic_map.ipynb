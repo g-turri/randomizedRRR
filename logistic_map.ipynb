{
 "cells": [
  {
   "cell_type": "code",
   "execution_count": 74,
   "metadata": {},
   "outputs": [],
   "source": [
    "import functools\n",
    "from time import perf_counter\n",
    "from kooplearn.datasets import LogisticMap\n",
    "from kooplearn.models import KernelDMD\n",
    "from kooplearn.data import traj_to_contexts\n",
    "from kooplearn._src.utils import topk\n",
    "from kooplearn._src.metrics import directed_hausdorff_distance\n",
    "from sklearn.gaussian_process.kernels import RBF, Matern\n",
    "from sklearn.model_selection import ParameterGrid\n",
    "from scipy.spatial.distance import pdist\n",
    "\n",
    "import numpy as np\n",
    "import ml_confs\n",
    "from sklearn.utils import resample\n",
    "\n",
    "configs_dict = {\n",
    "    'N': 20,\n",
    "    'num_train': 20000, \n",
    "    'num_val': 1000,\n",
    "    'num_test': 10000\n",
    "}\n",
    "\n",
    "configs = ml_confs.from_dict(configs_dict, register_jax_pytree=False)\n",
    "\n",
    "# Adapted from https://realpython.com/python-timer/#creating-a-python-timer-decorator\n",
    "def timer(func):\n",
    "    @functools.wraps(func)\n",
    "    def wrapper_timer(*args, **kwargs):\n",
    "        tic = perf_counter()\n",
    "        value = func(*args, **kwargs)\n",
    "        toc = perf_counter()\n",
    "        elapsed_time = toc - tic\n",
    "        return value, elapsed_time\n",
    "\n",
    "    return wrapper_timer"
   ]
  },
  {
   "cell_type": "code",
   "execution_count": 45,
   "metadata": {},
   "outputs": [],
   "source": [
    "logistic = LogisticMap(N=configs.N, rng_seed=0)\n",
    "# Data pipeline\n",
    "sample_traj = logistic.sample(\n",
    "    0.5, configs.num_train + configs.num_val + configs.num_test\n",
    ")\n",
    "\n",
    "dataset = {\n",
    "    \"train\": sample_traj[: configs.num_train],\n",
    "    \"validation\": sample_traj[configs.num_train : configs.num_train + configs.num_val],\n",
    "    \"test\": sample_traj[configs.num_train + configs.num_val :],\n",
    "}\n",
    "\n",
    "ref_eigs = logistic.eig()\n",
    "top_eigs = topk(np.abs(ref_eigs), 3)\n",
    "ref_eigs = ref_eigs[top_eigs.indices]"
   ]
  },
  {
   "cell_type": "code",
   "execution_count": 61,
   "metadata": {},
   "outputs": [],
   "source": [
    "train_traj = resample(dataset['train'], replace=False, n_samples=1000, random_state=0)\n",
    "train_ctx = traj_to_contexts(train_traj)\n",
    "test_ctx = traj_to_contexts(dataset['test'])\n",
    "val_ctx = traj_to_contexts(dataset['validation'])"
   ]
  },
  {
   "cell_type": "code",
   "execution_count": 66,
   "metadata": {},
   "outputs": [],
   "source": [
    "num_ls = 11\n",
    "ls_quantiles = np.linspace(0.05, 0.95, num_ls)\n",
    "ls_grid = np.quantile(pdist(train_traj), ls_quantiles)\n",
    "reg_grid = np.logspace(-5, 0, 11)\n",
    "hp_grid = ParameterGrid({'ls': ls_grid, 'reg': reg_grid})"
   ]
  },
  {
   "cell_type": "code",
   "execution_count": 69,
   "metadata": {},
   "outputs": [],
   "source": [
    "def train_and_eval(ls, reg, kernel, svd_solver, n_oversamples = 20, rank = 8, rng_seed = 0):\n",
    "    kernel = RBF(length_scale=ls)\n",
    "    model = KernelDMD(kernel = kernel, rank = rank, tikhonov_reg = reg, svd_solver=svd_solver, n_oversamples=n_oversamples, rng_seed=rng_seed)\n",
    "    timed_fit = timer(model.fit)\n",
    "    model, fit_time = timed_fit(train_ctx)\n",
    "    val_risk = model.risk(val_ctx)\n",
    "    return model, val_risk, fit_time"
   ]
  },
  {
   "cell_type": "code",
   "execution_count": 83,
   "metadata": {},
   "outputs": [
    {
     "name": "stdout",
     "output_type": "stream",
     "text": [
      "Fitted KernelDMD model. Lookback length set to 1\n",
      "Fitted KernelDMD model. Lookback length set to 1\n",
      "Fitted KernelDMD model. Lookback length set to 1\n",
      "Fitted KernelDMD model. Lookback length set to 1\n",
      "Fitted KernelDMD model. Lookback length set to 1\n",
      "Fitted KernelDMD model. Lookback length set to 1\n",
      "Fitted KernelDMD model. Lookback length set to 1\n",
      "Fitted KernelDMD model. Lookback length set to 1\n",
      "Fitted KernelDMD model. Lookback length set to 1\n",
      "Fitted KernelDMD model. Lookback length set to 1\n",
      "Fitted KernelDMD model. Lookback length set to 1\n",
      "Fitted KernelDMD model. Lookback length set to 1\n",
      "Fitted KernelDMD model. Lookback length set to 1\n",
      "Fitted KernelDMD model. Lookback length set to 1\n",
      "Fitted KernelDMD model. Lookback length set to 1\n",
      "Fitted KernelDMD model. Lookback length set to 1\n",
      "Fitted KernelDMD model. Lookback length set to 1\n",
      "Fitted KernelDMD model. Lookback length set to 1\n",
      "Fitted KernelDMD model. Lookback length set to 1\n",
      "Fitted KernelDMD model. Lookback length set to 1\n",
      "Fitted KernelDMD model. Lookback length set to 1\n",
      "Fitted KernelDMD model. Lookback length set to 1\n",
      "Fitted KernelDMD model. Lookback length set to 1\n",
      "Fitted KernelDMD model. Lookback length set to 1\n",
      "Fitted KernelDMD model. Lookback length set to 1\n",
      "Fitted KernelDMD model. Lookback length set to 1\n",
      "Fitted KernelDMD model. Lookback length set to 1\n",
      "Fitted KernelDMD model. Lookback length set to 1\n",
      "Fitted KernelDMD model. Lookback length set to 1\n",
      "Fitted KernelDMD model. Lookback length set to 1\n",
      "Fitted KernelDMD model. Lookback length set to 1\n",
      "Fitted KernelDMD model. Lookback length set to 1\n",
      "Fitted KernelDMD model. Lookback length set to 1\n",
      "Fitted KernelDMD model. Lookback length set to 1\n",
      "Fitted KernelDMD model. Lookback length set to 1\n",
      "Fitted KernelDMD model. Lookback length set to 1\n",
      "Fitted KernelDMD model. Lookback length set to 1\n",
      "Fitted KernelDMD model. Lookback length set to 1\n",
      "Fitted KernelDMD model. Lookback length set to 1\n",
      "Fitted KernelDMD model. Lookback length set to 1\n",
      "Fitted KernelDMD model. Lookback length set to 1\n",
      "Fitted KernelDMD model. Lookback length set to 1\n",
      "Fitted KernelDMD model. Lookback length set to 1\n",
      "Fitted KernelDMD model. Lookback length set to 1\n",
      "Fitted KernelDMD model. Lookback length set to 1\n",
      "Fitted KernelDMD model. Lookback length set to 1\n",
      "Fitted KernelDMD model. Lookback length set to 1\n",
      "Fitted KernelDMD model. Lookback length set to 1\n",
      "Fitted KernelDMD model. Lookback length set to 1\n",
      "Fitted KernelDMD model. Lookback length set to 1\n",
      "Fitted KernelDMD model. Lookback length set to 1\n",
      "Fitted KernelDMD model. Lookback length set to 1\n",
      "Fitted KernelDMD model. Lookback length set to 1\n",
      "Fitted KernelDMD model. Lookback length set to 1\n",
      "Fitted KernelDMD model. Lookback length set to 1\n",
      "Fitted KernelDMD model. Lookback length set to 1\n",
      "Fitted KernelDMD model. Lookback length set to 1\n",
      "Fitted KernelDMD model. Lookback length set to 1\n",
      "Fitted KernelDMD model. Lookback length set to 1\n",
      "Fitted KernelDMD model. Lookback length set to 1\n",
      "Fitted KernelDMD model. Lookback length set to 1\n",
      "Fitted KernelDMD model. Lookback length set to 1\n",
      "Fitted KernelDMD model. Lookback length set to 1\n",
      "Fitted KernelDMD model. Lookback length set to 1\n",
      "Fitted KernelDMD model. Lookback length set to 1\n",
      "Fitted KernelDMD model. Lookback length set to 1\n",
      "Fitted KernelDMD model. Lookback length set to 1\n",
      "Fitted KernelDMD model. Lookback length set to 1\n",
      "Fitted KernelDMD model. Lookback length set to 1\n",
      "Fitted KernelDMD model. Lookback length set to 1\n",
      "Fitted KernelDMD model. Lookback length set to 1\n",
      "Fitted KernelDMD model. Lookback length set to 1\n",
      "Fitted KernelDMD model. Lookback length set to 1\n",
      "Fitted KernelDMD model. Lookback length set to 1\n",
      "Fitted KernelDMD model. Lookback length set to 1\n",
      "Fitted KernelDMD model. Lookback length set to 1\n",
      "Fitted KernelDMD model. Lookback length set to 1\n",
      "Fitted KernelDMD model. Lookback length set to 1\n",
      "Fitted KernelDMD model. Lookback length set to 1\n",
      "Fitted KernelDMD model. Lookback length set to 1\n",
      "Fitted KernelDMD model. Lookback length set to 1\n",
      "Fitted KernelDMD model. Lookback length set to 1\n",
      "Fitted KernelDMD model. Lookback length set to 1\n",
      "Fitted KernelDMD model. Lookback length set to 1\n",
      "Fitted KernelDMD model. Lookback length set to 1\n",
      "Fitted KernelDMD model. Lookback length set to 1\n",
      "Fitted KernelDMD model. Lookback length set to 1\n",
      "Fitted KernelDMD model. Lookback length set to 1\n",
      "Fitted KernelDMD model. Lookback length set to 1\n",
      "Fitted KernelDMD model. Lookback length set to 1\n",
      "Fitted KernelDMD model. Lookback length set to 1\n",
      "Fitted KernelDMD model. Lookback length set to 1\n",
      "Fitted KernelDMD model. Lookback length set to 1\n",
      "Fitted KernelDMD model. Lookback length set to 1\n",
      "Fitted KernelDMD model. Lookback length set to 1\n",
      "Fitted KernelDMD model. Lookback length set to 1\n",
      "Fitted KernelDMD model. Lookback length set to 1\n",
      "Fitted KernelDMD model. Lookback length set to 1\n",
      "Fitted KernelDMD model. Lookback length set to 1\n",
      "Fitted KernelDMD model. Lookback length set to 1\n",
      "Fitted KernelDMD model. Lookback length set to 1\n",
      "Fitted KernelDMD model. Lookback length set to 1\n",
      "Fitted KernelDMD model. Lookback length set to 1\n",
      "Fitted KernelDMD model. Lookback length set to 1\n",
      "Fitted KernelDMD model. Lookback length set to 1\n",
      "Fitted KernelDMD model. Lookback length set to 1\n",
      "Fitted KernelDMD model. Lookback length set to 1\n",
      "Fitted KernelDMD model. Lookback length set to 1\n",
      "Fitted KernelDMD model. Lookback length set to 1\n",
      "Fitted KernelDMD model. Lookback length set to 1\n",
      "Fitted KernelDMD model. Lookback length set to 1\n",
      "Fitted KernelDMD model. Lookback length set to 1\n",
      "Fitted KernelDMD model. Lookback length set to 1\n",
      "Fitted KernelDMD model. Lookback length set to 1\n",
      "Fitted KernelDMD model. Lookback length set to 1\n",
      "Fitted KernelDMD model. Lookback length set to 1\n",
      "Fitted KernelDMD model. Lookback length set to 1\n",
      "Fitted KernelDMD model. Lookback length set to 1\n",
      "Fitted KernelDMD model. Lookback length set to 1\n",
      "Fitted KernelDMD model. Lookback length set to 1\n",
      "Fitted KernelDMD model. Lookback length set to 1\n"
     ]
    }
   ],
   "source": [
    "best_risk = np.inf\n",
    "best_vals = None\n",
    "best_model = None\n",
    "\n",
    "timings = []\n",
    "risks = []\n",
    "hp_params = list(hp_grid)\n",
    "\n",
    "for hp in hp_grid:\n",
    "    model, val_risk, fit_time = train_and_eval(hp['ls'], hp['reg'], RBF, 'randomized')\n",
    "    timings.append(fit_time)\n",
    "    risks.append(val_risk)\n",
    "    if val_risk < best_risk:\n",
    "        best_risk = val_risk\n",
    "        best_vals = hp\n",
    "        best_model = model"
   ]
  },
  {
   "cell_type": "code",
   "execution_count": 82,
   "metadata": {},
   "outputs": [
    {
     "data": {
      "text/plain": [
       "0.1270142643714789"
      ]
     },
     "execution_count": 82,
     "metadata": {},
     "output_type": "execute_result"
    }
   ],
   "source": [
    "best_risk"
   ]
  },
  {
   "cell_type": "code",
   "execution_count": 19,
   "metadata": {},
   "outputs": [],
   "source": [
    "ls = 1.0 # To be tuned\n",
    "reg = 1e-3 # To be tuned\n",
    "\n",
    "R3 = KernelDMD(kernel = kernel, rank = 8, tikhonov_reg = reg, svd_solver='arnoldi')\n",
    "R4 = KernelDMD(kernel = kernel, rank = 8, tikhonov_reg = reg, svd_solver='randomized', n_oversamples=20, rng_seed=0)"
   ]
  },
  {
   "cell_type": "code",
   "execution_count": 24,
   "metadata": {},
   "outputs": [],
   "source": []
  },
  {
   "cell_type": "code",
   "execution_count": 25,
   "metadata": {},
   "outputs": [
    {
     "name": "stderr",
     "output_type": "stream",
     "text": [
      "The computed projector is not real. The Kernel matrix is severely ill-conditioned.\n",
      "The numerical rank of the projector is smaller than the selected rank (8). 2 degrees of freedom will be ignored.\n"
     ]
    },
    {
     "name": "stdout",
     "output_type": "stream",
     "text": [
      "Fitted KernelDMD model. Lookback length set to 1\n",
      "Fitted KernelDMD model. Lookback length set to 1\n"
     ]
    }
   ],
   "source": [
    "R3 = R3.fit(train_ctx)\n",
    "R4 = R4.fit(train_ctx)"
   ]
  },
  {
   "cell_type": "code",
   "execution_count": 28,
   "metadata": {},
   "outputs": [
    {
     "data": {
      "text/plain": [
       "0.07091020631203315"
      ]
     },
     "execution_count": 28,
     "metadata": {},
     "output_type": "execute_result"
    }
   ],
   "source": [
    "R3.risk()"
   ]
  },
  {
   "cell_type": "code",
   "execution_count": 29,
   "metadata": {},
   "outputs": [
    {
     "data": {
      "text/plain": [
       "0.07149243053042675"
      ]
     },
     "execution_count": 29,
     "metadata": {},
     "output_type": "execute_result"
    }
   ],
   "source": [
    "R4.risk()"
   ]
  },
  {
   "cell_type": "code",
   "execution_count": 39,
   "metadata": {},
   "outputs": [],
   "source": [
    "R3_eigs = R3.eig()\n",
    "top_eigs = topk(np.abs(R3_eigs), 3)\n",
    "R3_eigs = R3_eigs[top_eigs.indices]\n",
    "\n",
    "R4_eigs = R4.eig()\n",
    "top_eigs = topk(np.abs(R4_eigs), 3)\n",
    "R4_eigs = R4_eigs[top_eigs.indices]"
   ]
  },
  {
   "cell_type": "code",
   "execution_count": 41,
   "metadata": {},
   "outputs": [],
   "source": [
    "R3_hausdorff = directed_hausdorff_distance(R3_eigs, ref_eigs)\n",
    "R4_hausdorff = directed_hausdorff_distance(R4_eigs, ref_eigs)"
   ]
  },
  {
   "cell_type": "code",
   "execution_count": 42,
   "metadata": {},
   "outputs": [
    {
     "data": {
      "text/plain": [
       "0.33647241287080293"
      ]
     },
     "execution_count": 42,
     "metadata": {},
     "output_type": "execute_result"
    }
   ],
   "source": [
    "R3_hausdorff"
   ]
  },
  {
   "cell_type": "code",
   "execution_count": 43,
   "metadata": {},
   "outputs": [
    {
     "data": {
      "text/plain": [
       "0.44529769200695607"
      ]
     },
     "execution_count": 43,
     "metadata": {},
     "output_type": "execute_result"
    }
   ],
   "source": [
    "R4_hausdorff"
   ]
  },
  {
   "cell_type": "code",
   "execution_count": null,
   "metadata": {},
   "outputs": [],
   "source": []
  }
 ],
 "metadata": {
  "kernelspec": {
   "display_name": "kooplearn",
   "language": "python",
   "name": "python3"
  },
  "language_info": {
   "codemirror_mode": {
    "name": "ipython",
    "version": 3
   },
   "file_extension": ".py",
   "mimetype": "text/x-python",
   "name": "python",
   "nbconvert_exporter": "python",
   "pygments_lexer": "ipython3",
   "version": "3.11.4"
  }
 },
 "nbformat": 4,
 "nbformat_minor": 2
}
