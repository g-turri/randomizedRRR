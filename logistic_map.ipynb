{
 "cells": [
  {
   "cell_type": "code",
   "execution_count": 1,
   "metadata": {
    "ExecuteTime": {
     "end_time": "2024-01-26T16:28:17.146887Z",
     "start_time": "2024-01-26T16:28:15.747168Z"
    }
   },
   "outputs": [],
   "source": [
    "import functools\n",
    "import pandas as pd\n",
    "from time import perf_counter\n",
    "from kooplearn.datasets import LogisticMap\n",
    "from kooplearn.models import KernelDMD\n",
    "from kooplearn.data import traj_to_contexts\n",
    "from kooplearn._src.utils import topk\n",
    "from kooplearn._src.metrics import directed_hausdorff_distance\n",
    "from sklearn.gaussian_process.kernels import RBF, Matern\n",
    "from sklearn.model_selection import ParameterGrid\n",
    "from scipy.spatial.distance import pdist\n",
    "from tqdm.notebook import tqdm\n",
    "import numpy as np\n",
    "import ml_confs\n",
    "from sklearn.utils import resample\n",
    "import matplotlib.pyplot as plt  \n",
    "\n",
    "configs_dict = {\n",
    "    'N': 20,\n",
    "    'num_train': 20000, \n",
    "    'num_val': 1000,\n",
    "    'num_test': 10000,\n",
    "    'rank': 10,\n",
    "}\n",
    "\n",
    "configs = ml_confs.from_dict(configs_dict, register_jax_pytree=False)\n",
    "\n",
    "# Adapted from https://realpython.com/python-timer/#creating-a-python-timer-decorator\n",
    "def timer(func):\n",
    "    @functools.wraps(func)\n",
    "    def wrapper_timer(*args, **kwargs):\n",
    "        tic = perf_counter()\n",
    "        value = func(*args, **kwargs)\n",
    "        toc = perf_counter()\n",
    "        elapsed_time = toc - tic\n",
    "        return value, elapsed_time\n",
    "\n",
    "    return wrapper_timer"
   ]
  },
  {
   "cell_type": "code",
   "execution_count": 2,
   "metadata": {
    "ExecuteTime": {
     "end_time": "2023-11-22T11:11:42.855123Z",
     "start_time": "2023-11-22T11:11:38.449850Z"
    }
   },
   "outputs": [],
   "source": [
    "logistic = LogisticMap(N=configs.N, rng_seed=0)\n",
    "# Data pipeline\n",
    "sample_traj = logistic.sample(\n",
    "    0.5, configs.num_train + configs.num_val + configs.num_test\n",
    ")\n",
    "\n",
    "dataset = {\n",
    "    \"train\": sample_traj[: configs.num_train],\n",
    "    \"validation\": sample_traj[configs.num_train : configs.num_train + configs.num_val],\n",
    "    \"test\": sample_traj[configs.num_train + configs.num_val :],\n",
    "}\n",
    "\n",
    "ref_eigs = logistic.eig()\n",
    "top_eigs = topk(np.abs(ref_eigs), 3)\n",
    "ref_eigs = ref_eigs[top_eigs.indices]"
   ]
  },
  {
   "cell_type": "code",
   "execution_count": 4,
   "outputs": [
    {
     "data": {
      "text/plain": "31001"
     },
     "execution_count": 4,
     "metadata": {},
     "output_type": "execute_result"
    }
   ],
   "source": [
    "len(sample_traj)"
   ],
   "metadata": {
    "collapsed": false,
    "ExecuteTime": {
     "end_time": "2023-11-22T11:10:17.115846Z",
     "start_time": "2023-11-22T11:10:17.111444Z"
    }
   }
  },
  {
   "cell_type": "code",
   "execution_count": 5,
   "metadata": {
    "ExecuteTime": {
     "end_time": "2023-11-22T11:10:18.829196Z",
     "start_time": "2023-11-22T11:10:18.821066Z"
    }
   },
   "outputs": [],
   "source": [
    "# train_traj = resample(dataset['train'], replace=False, n_samples=1000, random_state=0)\n",
    "train_traj = dataset['train'][:10000]\n",
    "train_ctx = traj_to_contexts(train_traj)\n",
    "test_ctx = traj_to_contexts(dataset['test'])\n",
    "val_ctx = traj_to_contexts(dataset['validation'])"
   ]
  },
  {
   "cell_type": "code",
   "execution_count": 5,
   "outputs": [
    {
     "data": {
      "text/plain": "(10001, 1)"
     },
     "execution_count": 5,
     "metadata": {},
     "output_type": "execute_result"
    }
   ],
   "source": [
    "dataset['test'].shape"
   ],
   "metadata": {
    "collapsed": false,
    "ExecuteTime": {
     "end_time": "2023-11-10T12:10:02.251417Z",
     "start_time": "2023-11-10T12:10:02.238257Z"
    }
   }
  },
  {
   "cell_type": "code",
   "execution_count": 6,
   "metadata": {
    "ExecuteTime": {
     "end_time": "2023-11-10T12:10:06.606216Z",
     "start_time": "2023-11-10T12:10:05.379089Z"
    }
   },
   "outputs": [],
   "source": [
    "num_ls = 5\n",
    "ls_quantiles = np.linspace(0.05, 0.95, num_ls)\n",
    "ls_grid = np.quantile(pdist(train_traj), ls_quantiles)\n",
    "reg_grid = np.logspace(-5, 0, 6)\n",
    "hp_grid = ParameterGrid({'ls': ls_grid, 'reg': reg_grid})"
   ]
  },
  {
   "cell_type": "code",
   "execution_count": 3,
   "metadata": {
    "ExecuteTime": {
     "end_time": "2023-11-22T11:11:42.873689Z",
     "start_time": "2023-11-22T11:11:42.859541Z"
    }
   },
   "outputs": [],
   "source": [
    "def R4_repeated_runs(n_rep):\n",
    "    risks = []\n",
    "    timings = []\n",
    "    eigs = []\n",
    "    Hdist = []\n",
    "    for r in tqdm(np.arange(n_rep),total=n_rep,desc='R4 repetitions'):\n",
    "        model = KernelDMD(kernel = kernel, rank = configs.rank, tikhonov_reg = reg, svd_solver='randomized', n_oversamples=20, rng_seed=r)\n",
    "        timed_fit = timer(model.fit)\n",
    "        model, fit_time = timed_fit(train_ctx, verbose=False)\n",
    "        timings.append(fit_time)\n",
    "        risks.append(model.risk(test_ctx))\n",
    "        all_eigs = model.eig()\n",
    "        top_eigs = topk(np.abs(all_eigs), 3)\n",
    "        eigs.append(all_eigs[top_eigs.indices])\n",
    "        Hdist.append(directed_hausdorff_distance(eigs[-1], ref_eigs))\n",
    "    return risks, eigs, Hdist, timings\n",
    "    \n",
    "    \n",
    "def train_and_eval(ls, reg, kernel, svd_solver, n_oversamples = 20, rank = configs.rank, rng_seed = 0):\n",
    "    kernel = kernel(length_scale=ls)\n",
    "    model = KernelDMD(kernel = kernel, rank = rank, tikhonov_reg = reg, svd_solver=svd_solver, n_oversamples=n_oversamples, rng_seed=rng_seed)\n",
    "    timed_fit = timer(model.fit)\n",
    "    model, fit_time = timed_fit(train_ctx, verbose=False)\n",
    "    val_risk = model.risk(val_ctx)\n",
    "    return model, val_risk, fit_time\n",
    "\n",
    "def grid_search(hp_grid, svd_solver):\n",
    "    best_risk = np.inf\n",
    "    best_vals = None\n",
    "    best_model = None\n",
    "    \n",
    "    timings = []\n",
    "    risks = []\n",
    "    kernel = RBF\n",
    "\n",
    "    for hp in tqdm(hp_grid, total=len(hp_grid), desc='HP tuning'):\n",
    "        model, val_risk, fit_time = train_and_eval(hp['ls'], hp['reg'], kernel, svd_solver)\n",
    "        timings.append(fit_time)\n",
    "        risks.append(val_risk)\n",
    "        if val_risk < best_risk:\n",
    "            best_risk = val_risk\n",
    "            best_vals = hp\n",
    "            best_model = model\n",
    "            \n",
    "    return best_risk, best_vals, best_model, timings"
   ]
  },
  {
   "cell_type": "code",
   "execution_count": null,
   "metadata": {
    "is_executing": true,
    "ExecuteTime": {
     "start_time": "2023-11-10T12:10:15.113205Z"
    }
   },
   "outputs": [
    {
     "data": {
      "text/plain": "HP tuning:   0%|          | 0/30 [00:00<?, ?it/s]",
      "application/vnd.jupyter.widget-view+json": {
       "version_major": 2,
       "version_minor": 0,
       "model_id": "9ca5b89732aa4a058cbe399ec123f38b"
      }
     },
     "metadata": {},
     "output_type": "display_data"
    }
   ],
   "source": [
    "best_risk = np.inf\n",
    "best_vals = None\n",
    "best_model = None\n",
    "\n",
    "timings = []\n",
    "risks = []\n",
    "hp_params = list(hp_grid)\n",
    "kernel = RBF\n",
    "\n",
    "for hp in tqdm(hp_grid, total=len(hp_grid), desc='HP tuning'):\n",
    "    model, val_risk, fit_time = train_and_eval(hp['ls'], hp['reg'], kernel, 'arnoldi')\n",
    "    timings.append(fit_time)\n",
    "    risks.append(val_risk)\n",
    "    if val_risk < best_risk:\n",
    "        best_risk = val_risk\n",
    "        best_vals = hp\n",
    "        best_model = model"
   ]
  },
  {
   "cell_type": "code",
   "execution_count": 10,
   "metadata": {
    "ExecuteTime": {
     "end_time": "2023-11-10T13:12:37.137199Z",
     "start_time": "2023-11-10T13:12:37.135132Z"
    }
   },
   "outputs": [
    {
     "data": {
      "text/plain": "{'ls': 0.8537483774560708, 'reg': 1e-05}"
     },
     "execution_count": 10,
     "metadata": {},
     "output_type": "execute_result"
    }
   ],
   "source": [
    "best_vals"
   ]
  },
  {
   "cell_type": "code",
   "execution_count": 49,
   "metadata": {
    "ExecuteTime": {
     "end_time": "2023-11-09T16:15:14.178629Z",
     "start_time": "2023-11-09T16:15:14.161768Z"
    }
   },
   "outputs": [],
   "source": [
    "ls = best_vals['ls']\n",
    "reg = best_vals['reg']\n",
    "kernel = RBF(length_scale=ls)\n",
    "\n",
    "R3 = KernelDMD(kernel = kernel, rank = configs.rank, tikhonov_reg = reg, svd_solver='arnoldi')\n",
    "R4 = KernelDMD(kernel = kernel, rank = configs.rank, tikhonov_reg = reg, svd_solver='randomized', n_oversamples=20, rng_seed=0)\n",
    "R4GT = KernelDMD(kernel = kernel, rank = configs.rank, tikhonov_reg = reg, svd_solver='randomized', n_oversamples=20, rng_seed=0, GT=True)"
   ]
  },
  {
   "cell_type": "code",
   "execution_count": 50,
   "metadata": {
    "ExecuteTime": {
     "end_time": "2023-11-09T16:15:15.239425Z",
     "start_time": "2023-11-09T16:15:15.143954Z"
    }
   },
   "outputs": [
    {
     "name": "stdout",
     "output_type": "stream",
     "text": [
      "Fitted KernelDMD model. Lookback length set to 1\n"
     ]
    }
   ],
   "source": [
    "R3 = R3.fit(train_ctx)"
   ]
  },
  {
   "cell_type": "code",
   "execution_count": 51,
   "outputs": [
    {
     "name": "stdout",
     "output_type": "stream",
     "text": [
      "Fitted KernelDMD model. Lookback length set to 1\n"
     ]
    }
   ],
   "source": [
    "R4 = R4.fit(train_ctx)"
   ],
   "metadata": {
    "collapsed": false,
    "ExecuteTime": {
     "end_time": "2023-11-09T16:15:15.936473Z",
     "start_time": "2023-11-09T16:15:15.858724Z"
    }
   }
  },
  {
   "cell_type": "code",
   "execution_count": 52,
   "outputs": [
    {
     "name": "stdout",
     "output_type": "stream",
     "text": [
      "Fitted KernelDMD model. Lookback length set to 1\n"
     ]
    }
   ],
   "source": [
    "R4GT = R4GT.fit(train_ctx)"
   ],
   "metadata": {
    "collapsed": false,
    "ExecuteTime": {
     "end_time": "2023-11-09T16:15:16.281999Z",
     "start_time": "2023-11-09T16:15:16.244368Z"
    }
   }
  },
  {
   "cell_type": "code",
   "execution_count": 53,
   "outputs": [
    {
     "data": {
      "text/plain": "R4 repetitions:   0%|          | 0/5 [00:00<?, ?it/s]",
      "application/vnd.jupyter.widget-view+json": {
       "version_major": 2,
       "version_minor": 0,
       "model_id": "7e1bd7afda0147ac81dcaa60d7b046b9"
      }
     },
     "metadata": {},
     "output_type": "display_data"
    },
    {
     "data": {
      "text/plain": "([0.08026345960536618,\n  0.08076118843840319,\n  0.08069247479225139,\n  0.08082402292817792,\n  0.08063331192441137],\n [array([ 0.99955041+0.j, -0.27717513+0.j, -0.0693562 +0.j]),\n  array([ 1.00028516+0.j, -0.27175608+0.j, -0.07070845+0.j]),\n  array([ 1.00006714+0.j, -0.2767515 +0.j, -0.06945373+0.j]),\n  array([ 1.00036533+0.j, -0.27394012+0.j, -0.0701435 +0.j]),\n  array([ 0.99998325+0.j, -0.2755586 +0.j, -0.06975979+0.j])],\n [0.22766363947402637,\n  0.226930059747629,\n  0.22761053881981133,\n  0.2272358481673601,\n  0.2274441011298199],\n [0.07017236202955246,\n  0.05872804799582809,\n  0.05820011696778238,\n  0.05857580900192261,\n  0.05808850796893239])"
     },
     "execution_count": 53,
     "metadata": {},
     "output_type": "execute_result"
    }
   ],
   "source": [
    "R4_repeated_runs(5)"
   ],
   "metadata": {
    "collapsed": false,
    "ExecuteTime": {
     "end_time": "2023-11-09T16:15:29.332902Z",
     "start_time": "2023-11-09T16:15:17.354064Z"
    }
   }
  },
  {
   "cell_type": "code",
   "execution_count": 54,
   "metadata": {
    "ExecuteTime": {
     "end_time": "2023-11-09T16:15:29.381888Z",
     "start_time": "2023-11-09T16:15:29.335086Z"
    }
   },
   "outputs": [
    {
     "data": {
      "text/plain": "0.0802918093385343"
     },
     "execution_count": 54,
     "metadata": {},
     "output_type": "execute_result"
    }
   ],
   "source": [
    "R3.risk()"
   ]
  },
  {
   "cell_type": "code",
   "execution_count": 55,
   "outputs": [
    {
     "data": {
      "text/plain": "0.07991808093113861"
     },
     "execution_count": 55,
     "metadata": {},
     "output_type": "execute_result"
    }
   ],
   "source": [
    "R4.risk()"
   ],
   "metadata": {
    "collapsed": false,
    "ExecuteTime": {
     "end_time": "2023-11-09T16:15:41.031462Z",
     "start_time": "2023-11-09T16:15:41.021229Z"
    }
   }
  },
  {
   "cell_type": "code",
   "execution_count": 56,
   "metadata": {
    "ExecuteTime": {
     "end_time": "2023-11-09T16:15:42.941039Z",
     "start_time": "2023-11-09T16:15:42.927281Z"
    }
   },
   "outputs": [
    {
     "data": {
      "text/plain": "0.08010316238734771"
     },
     "execution_count": 56,
     "metadata": {},
     "output_type": "execute_result"
    }
   ],
   "source": [
    "R4GT.risk()"
   ]
  },
  {
   "cell_type": "code",
   "execution_count": 57,
   "metadata": {
    "ExecuteTime": {
     "end_time": "2023-11-09T16:15:47.541645Z",
     "start_time": "2023-11-09T16:15:47.527135Z"
    }
   },
   "outputs": [],
   "source": [
    "R3_eigs = R3.eig()\n",
    "top_eigs = topk(np.abs(R3_eigs), 3)\n",
    "R3_eigs = R3_eigs[top_eigs.indices]\n",
    "\n",
    "R4_eigs = R4.eig()\n",
    "top_eigs = topk(np.abs(R4_eigs), 3)\n",
    "R4_eigs = R4_eigs[top_eigs.indices]"
   ]
  },
  {
   "cell_type": "code",
   "execution_count": 58,
   "metadata": {
    "ExecuteTime": {
     "end_time": "2023-11-09T16:15:47.830921Z",
     "start_time": "2023-11-09T16:15:47.820314Z"
    }
   },
   "outputs": [],
   "source": [
    "R3_hausdorff = directed_hausdorff_distance(R3_eigs, ref_eigs)\n",
    "R4_hausdorff = directed_hausdorff_distance(R4_eigs, ref_eigs)"
   ]
  },
  {
   "cell_type": "code",
   "execution_count": 59,
   "metadata": {
    "ExecuteTime": {
     "end_time": "2023-11-09T16:15:48.193719Z",
     "start_time": "2023-11-09T16:15:48.168874Z"
    }
   },
   "outputs": [
    {
     "data": {
      "text/plain": "0.22745502792606215"
     },
     "execution_count": 59,
     "metadata": {},
     "output_type": "execute_result"
    }
   ],
   "source": [
    "R3_hausdorff"
   ]
  },
  {
   "cell_type": "code",
   "execution_count": 60,
   "metadata": {
    "ExecuteTime": {
     "end_time": "2023-11-09T16:15:48.344711Z",
     "start_time": "2023-11-09T16:15:48.340091Z"
    }
   },
   "outputs": [
    {
     "data": {
      "text/plain": "0.22766363947402637"
     },
     "execution_count": 60,
     "metadata": {},
     "output_type": "execute_result"
    }
   ],
   "source": [
    "R4_hausdorff"
   ]
  },
  {
   "cell_type": "code",
   "execution_count": 44,
   "metadata": {
    "ExecuteTime": {
     "end_time": "2023-11-22T12:26:12.159651Z",
     "start_time": "2023-11-22T12:26:12.115578Z"
    }
   },
   "outputs": [],
   "source": [
    "def R4_repeated_runs(n_rep, GT):\n",
    "    risks_train = []\n",
    "    risks_test = []\n",
    "    timings = []\n",
    "    eigs = []\n",
    "    Hdist = []        \n",
    "    model = KernelDMD(kernel = kernel, rank = configs.rank, tikhonov_reg = reg, svd_solver='randomized', n_oversamples=20, GT=GT)\n",
    "    for r in tqdm(np.arange(n_rep),total=n_rep,desc='R4 repetitions'):\n",
    "        model.rng_seed = r\n",
    "        timed_fit = timer(model.fit)\n",
    "        model, fit_time = timed_fit(train_ctx, verbose=False)\n",
    "        timings.append(fit_time)\n",
    "        risks_train.append(model.risk())\n",
    "        risks_test.append(model.risk(test_ctx))\n",
    "        all_eigs = model.eig()\n",
    "        all_svals = model.svals()\n",
    "        top_eigs = topk(np.abs(all_eigs), 3)\n",
    "        eigs.append(all_eigs[top_eigs.indices])\n",
    "        Hdist.append(directed_hausdorff_distance(eigs[-1], ref_eigs))\n",
    "    return risks_train, risks_test, eigs, all_svals, Hdist, timings"
   ]
  },
  {
   "cell_type": "code",
   "execution_count": 23,
   "outputs": [
    {
     "data": {
      "text/plain": "array([1.00000000e-09, 3.16227766e-09, 1.00000000e-08, 3.16227766e-08,\n       1.00000000e-07, 3.16227766e-07, 1.00000000e-06, 3.16227766e-06,\n       1.00000000e-05, 3.16227766e-05, 1.00000000e-04, 3.16227766e-04,\n       1.00000000e-03])"
     },
     "execution_count": 23,
     "metadata": {},
     "output_type": "execute_result"
    }
   ],
   "source": [
    "np.logspace(-9, -3, 13)"
   ],
   "metadata": {
    "collapsed": false,
    "ExecuteTime": {
     "end_time": "2023-11-10T13:38:52.548247Z",
     "start_time": "2023-11-10T13:38:52.529973Z"
    }
   }
  },
  {
   "cell_type": "code",
   "execution_count": 33,
   "outputs": [
    {
     "name": "stdout",
     "output_type": "stream",
     "text": [
      "Training Sample size:  200\n"
     ]
    },
    {
     "data": {
      "text/plain": "HP tuning:   0%|          | 0/11 [00:00<?, ?it/s]",
      "application/vnd.jupyter.widget-view+json": {
       "version_major": 2,
       "version_minor": 0,
       "model_id": "1a45c5ccbdcd46719b75f2764c375e75"
      }
     },
     "metadata": {},
     "output_type": "display_data"
    },
    {
     "name": "stderr",
     "output_type": "stream",
     "text": [
      "The computed projector is not real. The Kernel matrix is severely ill-conditioned.\n",
      "The computed projector is not real. The Kernel matrix is severely ill-conditioned.\n",
      "The numerical rank of the projector is smaller than the selected rank (10). 3 degrees of freedom will be ignored.\n"
     ]
    },
    {
     "name": "stdout",
     "output_type": "stream",
     "text": [
      "0.09015025670728483 {'ls': 0.847829745623151, 'reg': 0.001}\n",
      "Fitted KernelDMD model. Lookback length set to 1\n"
     ]
    },
    {
     "name": "stderr",
     "output_type": "stream",
     "text": [
      "/home/gturri/miniconda3/envs/torch/lib/python3.10/site-packages/kooplearn/_src/operator_regression/dual.py:382: RuntimeWarning: divide by zero encountered in reciprocal\n",
      "  r_normr = np.where(norm_r == 0.0, 0.0, norm_r**-1)\n",
      "/home/gturri/miniconda3/envs/torch/lib/python3.10/site-packages/kooplearn/_src/operator_regression/dual.py:387: RuntimeWarning: divide by zero encountered in reciprocal\n",
      "  r_norm_l = np.where(np.abs(norm_l) == 0, 0.0, norm_l**-1)\n"
     ]
    },
    {
     "data": {
      "text/plain": "R4 repetitions:   0%|          | 0/10 [00:00<?, ?it/s]",
      "application/vnd.jupyter.widget-view+json": {
       "version_major": 2,
       "version_minor": 0,
       "model_id": "78c2f08eade0427eb0b609b64044b538"
      }
     },
     "metadata": {},
     "output_type": "display_data"
    },
    {
     "name": "stderr",
     "output_type": "stream",
     "text": [
      "/home/gturri/miniconda3/envs/torch/lib/python3.10/site-packages/kooplearn/_src/operator_regression/dual.py:387: RuntimeWarning: invalid value encountered in reciprocal\n",
      "  r_norm_l = np.where(np.abs(norm_l) == 0, 0.0, norm_l**-1)\n"
     ]
    },
    {
     "data": {
      "text/plain": "R4 repetitions:   0%|          | 0/10 [00:00<?, ?it/s]",
      "application/vnd.jupyter.widget-view+json": {
       "version_major": 2,
       "version_minor": 0,
       "model_id": "5bb95e78054041569f610d85623f702c"
      }
     },
     "metadata": {},
     "output_type": "display_data"
    },
    {
     "name": "stdout",
     "output_type": "stream",
     "text": [
      "Training Sample size:  500\n"
     ]
    },
    {
     "data": {
      "text/plain": "HP tuning:   0%|          | 0/11 [00:00<?, ?it/s]",
      "application/vnd.jupyter.widget-view+json": {
       "version_major": 2,
       "version_minor": 0,
       "model_id": "e11b8f510dce44d8ba7bf81d29dbc0ea"
      }
     },
     "metadata": {},
     "output_type": "display_data"
    },
    {
     "name": "stderr",
     "output_type": "stream",
     "text": [
      "The computed projector is not real. The Kernel matrix is severely ill-conditioned.\n",
      "The numerical rank of the projector is smaller than the selected rank (10). 3 degrees of freedom will be ignored.\n"
     ]
    },
    {
     "name": "stdout",
     "output_type": "stream",
     "text": [
      "0.08142244921018094 {'ls': 0.8674405381951485, 'reg': 0.001}\n",
      "Fitted KernelDMD model. Lookback length set to 1\n"
     ]
    },
    {
     "name": "stderr",
     "output_type": "stream",
     "text": [
      "/home/gturri/miniconda3/envs/torch/lib/python3.10/site-packages/kooplearn/_src/operator_regression/dual.py:382: RuntimeWarning: divide by zero encountered in reciprocal\n",
      "  r_normr = np.where(norm_r == 0.0, 0.0, norm_r**-1)\n",
      "/home/gturri/miniconda3/envs/torch/lib/python3.10/site-packages/kooplearn/_src/operator_regression/dual.py:387: RuntimeWarning: divide by zero encountered in reciprocal\n",
      "  r_norm_l = np.where(np.abs(norm_l) == 0, 0.0, norm_l**-1)\n"
     ]
    },
    {
     "data": {
      "text/plain": "R4 repetitions:   0%|          | 0/10 [00:00<?, ?it/s]",
      "application/vnd.jupyter.widget-view+json": {
       "version_major": 2,
       "version_minor": 0,
       "model_id": "3712a607e5814fa9be9883bb803fb047"
      }
     },
     "metadata": {},
     "output_type": "display_data"
    },
    {
     "name": "stderr",
     "output_type": "stream",
     "text": [
      "/home/gturri/miniconda3/envs/torch/lib/python3.10/site-packages/kooplearn/_src/operator_regression/dual.py:387: RuntimeWarning: invalid value encountered in reciprocal\n",
      "  r_norm_l = np.where(np.abs(norm_l) == 0, 0.0, norm_l**-1)\n"
     ]
    },
    {
     "data": {
      "text/plain": "R4 repetitions:   0%|          | 0/10 [00:00<?, ?it/s]",
      "application/vnd.jupyter.widget-view+json": {
       "version_major": 2,
       "version_minor": 0,
       "model_id": "4ad462ccecac4c8eb0c48848f512bf0d"
      }
     },
     "metadata": {},
     "output_type": "display_data"
    },
    {
     "name": "stdout",
     "output_type": "stream",
     "text": [
      "Training Sample size:  1000\n"
     ]
    },
    {
     "data": {
      "text/plain": "HP tuning:   0%|          | 0/11 [00:00<?, ?it/s]",
      "application/vnd.jupyter.widget-view+json": {
       "version_major": 2,
       "version_minor": 0,
       "model_id": "a36fc13d9aae4b0fa0a093cef2eb0e01"
      }
     },
     "metadata": {},
     "output_type": "display_data"
    },
    {
     "name": "stderr",
     "output_type": "stream",
     "text": [
      "The computed projector is not real. The Kernel matrix is severely ill-conditioned.\n"
     ]
    },
    {
     "name": "stdout",
     "output_type": "stream",
     "text": [
      "0.07932984123568587 {'ls': 0.8620697073530256, 'reg': 0.001}\n"
     ]
    },
    {
     "name": "stderr",
     "output_type": "stream",
     "text": [
      "The computed projector is not real. The Kernel matrix is severely ill-conditioned.\n",
      "The numerical rank of the projector is smaller than the selected rank (10). 3 degrees of freedom will be ignored.\n"
     ]
    },
    {
     "name": "stdout",
     "output_type": "stream",
     "text": [
      "Fitted KernelDMD model. Lookback length set to 1\n"
     ]
    },
    {
     "name": "stderr",
     "output_type": "stream",
     "text": [
      "/home/gturri/miniconda3/envs/torch/lib/python3.10/site-packages/kooplearn/_src/operator_regression/dual.py:382: RuntimeWarning: divide by zero encountered in reciprocal\n",
      "  r_normr = np.where(norm_r == 0.0, 0.0, norm_r**-1)\n",
      "/home/gturri/miniconda3/envs/torch/lib/python3.10/site-packages/kooplearn/_src/operator_regression/dual.py:387: RuntimeWarning: divide by zero encountered in reciprocal\n",
      "  r_norm_l = np.where(np.abs(norm_l) == 0, 0.0, norm_l**-1)\n"
     ]
    },
    {
     "data": {
      "text/plain": "R4 repetitions:   0%|          | 0/10 [00:00<?, ?it/s]",
      "application/vnd.jupyter.widget-view+json": {
       "version_major": 2,
       "version_minor": 0,
       "model_id": "695137011a7c455cb37e0649925fb26a"
      }
     },
     "metadata": {},
     "output_type": "display_data"
    },
    {
     "name": "stderr",
     "output_type": "stream",
     "text": [
      "/home/gturri/miniconda3/envs/torch/lib/python3.10/site-packages/kooplearn/_src/operator_regression/dual.py:387: RuntimeWarning: invalid value encountered in reciprocal\n",
      "  r_norm_l = np.where(np.abs(norm_l) == 0, 0.0, norm_l**-1)\n"
     ]
    },
    {
     "data": {
      "text/plain": "R4 repetitions:   0%|          | 0/10 [00:00<?, ?it/s]",
      "application/vnd.jupyter.widget-view+json": {
       "version_major": 2,
       "version_minor": 0,
       "model_id": "7973ff9655924fc29475f7170169eb2f"
      }
     },
     "metadata": {},
     "output_type": "display_data"
    },
    {
     "name": "stdout",
     "output_type": "stream",
     "text": [
      "Training Sample size:  2000\n"
     ]
    },
    {
     "data": {
      "text/plain": "HP tuning:   0%|          | 0/11 [00:00<?, ?it/s]",
      "application/vnd.jupyter.widget-view+json": {
       "version_major": 2,
       "version_minor": 0,
       "model_id": "979128dd89b64890b3339455e65ce141"
      }
     },
     "metadata": {},
     "output_type": "display_data"
    },
    {
     "name": "stdout",
     "output_type": "stream",
     "text": [
      "0.0801805707690515 {'ls': 0.8540060927606115, 'reg': 0.001}\n"
     ]
    },
    {
     "name": "stderr",
     "output_type": "stream",
     "text": [
      "The computed projector is not real. The Kernel matrix is severely ill-conditioned.\n",
      "The numerical rank of the projector is smaller than the selected rank (10). 3 degrees of freedom will be ignored.\n"
     ]
    },
    {
     "name": "stdout",
     "output_type": "stream",
     "text": [
      "Fitted KernelDMD model. Lookback length set to 1\n"
     ]
    },
    {
     "name": "stderr",
     "output_type": "stream",
     "text": [
      "/home/gturri/miniconda3/envs/torch/lib/python3.10/site-packages/kooplearn/_src/operator_regression/dual.py:382: RuntimeWarning: divide by zero encountered in reciprocal\n",
      "  r_normr = np.where(norm_r == 0.0, 0.0, norm_r**-1)\n",
      "/home/gturri/miniconda3/envs/torch/lib/python3.10/site-packages/kooplearn/_src/operator_regression/dual.py:387: RuntimeWarning: invalid value encountered in reciprocal\n",
      "  r_norm_l = np.where(np.abs(norm_l) == 0, 0.0, norm_l**-1)\n"
     ]
    },
    {
     "data": {
      "text/plain": "R4 repetitions:   0%|          | 0/10 [00:00<?, ?it/s]",
      "application/vnd.jupyter.widget-view+json": {
       "version_major": 2,
       "version_minor": 0,
       "model_id": "236d62abdbcf4c0ca1f12cd07ca4b970"
      }
     },
     "metadata": {},
     "output_type": "display_data"
    },
    {
     "name": "stderr",
     "output_type": "stream",
     "text": [
      "/home/gturri/miniconda3/envs/torch/lib/python3.10/site-packages/kooplearn/_src/operator_regression/dual.py:387: RuntimeWarning: divide by zero encountered in reciprocal\n",
      "  r_norm_l = np.where(np.abs(norm_l) == 0, 0.0, norm_l**-1)\n"
     ]
    },
    {
     "data": {
      "text/plain": "R4 repetitions:   0%|          | 0/10 [00:00<?, ?it/s]",
      "application/vnd.jupyter.widget-view+json": {
       "version_major": 2,
       "version_minor": 0,
       "model_id": "0b949541200741a983efee8b4206a634"
      }
     },
     "metadata": {},
     "output_type": "display_data"
    },
    {
     "name": "stdout",
     "output_type": "stream",
     "text": [
      "Training Sample size:  5000\n"
     ]
    },
    {
     "data": {
      "text/plain": "HP tuning:   0%|          | 0/11 [00:00<?, ?it/s]",
      "application/vnd.jupyter.widget-view+json": {
       "version_major": 2,
       "version_minor": 0,
       "model_id": "707cfaf076f542f5b1b3353e89195503"
      }
     },
     "metadata": {},
     "output_type": "display_data"
    },
    {
     "name": "stderr",
     "output_type": "stream",
     "text": [
      "The computed projector is not real. The Kernel matrix is severely ill-conditioned.\n"
     ]
    },
    {
     "name": "stdout",
     "output_type": "stream",
     "text": [
      "0.08074637992906397 {'ls': 0.8517507499555689, 'reg': 0.001}\n"
     ]
    },
    {
     "name": "stderr",
     "output_type": "stream",
     "text": [
      "The computed projector is not real. The Kernel matrix is severely ill-conditioned.\n",
      "The numerical rank of the projector is smaller than the selected rank (10). 4 degrees of freedom will be ignored.\n"
     ]
    },
    {
     "name": "stdout",
     "output_type": "stream",
     "text": [
      "Fitted KernelDMD model. Lookback length set to 1\n"
     ]
    },
    {
     "name": "stderr",
     "output_type": "stream",
     "text": [
      "/home/gturri/miniconda3/envs/torch/lib/python3.10/site-packages/kooplearn/_src/operator_regression/dual.py:382: RuntimeWarning: divide by zero encountered in reciprocal\n",
      "  r_normr = np.where(norm_r == 0.0, 0.0, norm_r**-1)\n",
      "/home/gturri/miniconda3/envs/torch/lib/python3.10/site-packages/kooplearn/_src/operator_regression/dual.py:387: RuntimeWarning: divide by zero encountered in reciprocal\n",
      "  r_norm_l = np.where(np.abs(norm_l) == 0, 0.0, norm_l**-1)\n"
     ]
    },
    {
     "data": {
      "text/plain": "R4 repetitions:   0%|          | 0/10 [00:00<?, ?it/s]",
      "application/vnd.jupyter.widget-view+json": {
       "version_major": 2,
       "version_minor": 0,
       "model_id": "ba4ecc22eb3d4884b98e9eea71b833ec"
      }
     },
     "metadata": {},
     "output_type": "display_data"
    },
    {
     "name": "stderr",
     "output_type": "stream",
     "text": [
      "/home/gturri/miniconda3/envs/torch/lib/python3.10/site-packages/kooplearn/_src/operator_regression/dual.py:387: RuntimeWarning: invalid value encountered in reciprocal\n",
      "  r_norm_l = np.where(np.abs(norm_l) == 0, 0.0, norm_l**-1)\n"
     ]
    },
    {
     "data": {
      "text/plain": "R4 repetitions:   0%|          | 0/10 [00:00<?, ?it/s]",
      "application/vnd.jupyter.widget-view+json": {
       "version_major": 2,
       "version_minor": 0,
       "model_id": "be9bb17ce6f34f95bb78d09f01ec3400"
      }
     },
     "metadata": {},
     "output_type": "display_data"
    }
   ],
   "source": [
    "# n_training_samples = [500, 1000, 2000, 5000, 10000]\n",
    "n_training_samples = [200, 500, 1000, 2000, 5000]\n",
    "\n",
    "test_ctx = traj_to_contexts(dataset['test'])\n",
    "val_ctx = traj_to_contexts(dataset['validation'])\n",
    "\n",
    "R3_risk_test = []\n",
    "R4_risk_test = []\n",
    "\n",
    "R3_risk_train = []\n",
    "R4_risk_train = []\n",
    "\n",
    "R3_time = []\n",
    "R4_time = []\n",
    "\n",
    "R3_Hdist = []\n",
    "R4_Hdist = []\n",
    "\n",
    "R3_eigs = []\n",
    "R4_eigs = []\n",
    "\n",
    "R4GT_risk_test = []\n",
    "R4GT_risk_train = []\n",
    "R4GT_eigs = []\n",
    "R4GT_Hdist = []\n",
    "R4GT_time = []\n",
    "\n",
    "for n in n_training_samples:\n",
    "    print('Training Sample size: ', n)\n",
    "    train_traj = dataset['train'][:n]\n",
    "    train_ctx = traj_to_contexts(train_traj)\n",
    "    \n",
    "    num_ls = 11\n",
    "    ls_quantiles = np.linspace(0.05, 0.95, num_ls)\n",
    "    ls_grid = np.quantile(pdist(train_traj), ls_quantiles)\n",
    "    reg_grid = np.logspace(-6, -3, 7)\n",
    "    reg_grid = [1e-3]\n",
    "    hp_grid = ParameterGrid({'ls': ls_grid, 'reg': reg_grid})\n",
    "    \n",
    "    best_risk, best_vals, best_model, _ = grid_search(hp_grid, 'arnoldi')\n",
    "    print(best_risk, best_vals)\n",
    "    ls = best_vals['ls']\n",
    "    reg = best_vals['reg']\n",
    "    kernel = RBF(length_scale=ls)\n",
    "    \n",
    "    R3 = KernelDMD(kernel = kernel, rank = configs.rank, tikhonov_reg = reg, svd_solver='arnoldi')\n",
    "    # R4 = KernelDMD(kernel = kernel, rank = configs.rank, tikhonov_reg = reg, svd_solver='randomized', n_oversamples=20, rng_seed=0)\n",
    "    \n",
    "    timed_fit = timer(R3.fit)\n",
    "    R3, fit_time_R3 = timed_fit(train_ctx)\n",
    "    R3_risk_train.append(R3.risk())\n",
    "    R3_risk_test.append(R3.risk(test_ctx))\n",
    "    R3_time.append(fit_time_R3)\n",
    "    eigs = R3.eig()\n",
    "    top_eigs = topk(np.abs(eigs), 3)\n",
    "    R3_eigs.append(eigs[top_eigs.indices])\n",
    "    R3_Hdist.append(directed_hausdorff_distance(R3_eigs[-1], ref_eigs))\n",
    "\n",
    "    # try:\n",
    "    risks_train, risks_test, eigs, Hdists, timings = R4_repeated_runs(10, False)\n",
    "    R4_risk_train.append(risks_train)\n",
    "    R4_risk_test.append(risks_test)\n",
    "    R4_eigs.append(eigs)\n",
    "    R4_Hdist.append(Hdists)\n",
    "    R4_time.append(timings)\n",
    "    # except:\n",
    "    # R4_risk_train.append(None)\n",
    "    # R4_risk_test.append(None)\n",
    "    # R4_eigs.append(None)\n",
    "    # R4_Hdist.append(None)\n",
    "    # R4_time.append(None)\n",
    "    \n",
    "    risks_train, risks_test, eigs, Hdists, timings = R4_repeated_runs(10, True)\n",
    "    R4GT_risk_train.append(risks_train)\n",
    "    R4GT_risk_test.append(risks_test)\n",
    "    R4GT_eigs.append(eigs)\n",
    "    R4GT_Hdist.append(Hdists)\n",
    "    R4GT_time.append(timings)"
   ],
   "metadata": {
    "collapsed": false,
    "ExecuteTime": {
     "end_time": "2023-11-22T12:18:04.594195Z",
     "start_time": "2023-11-22T12:10:58.898852Z"
    }
   }
  },
  {
   "cell_type": "code",
   "execution_count": 34,
   "outputs": [],
   "source": [
    "dict = {\n",
    "    'n_training_samples': n_training_samples,\n",
    "    'R3_risk_train': R3_risk_train,\n",
    "    'R3_risk_test': R3_risk_test,\n",
    "    'R4_risk_train': R4_risk_train,\n",
    "    'R4_risk_test': R4_risk_test,\n",
    "    'R4GT_risk_train': R4GT_risk_train,\n",
    "    'R4GT_risk_test': R4GT_risk_test,\n",
    "    'R3_time': R3_time,\n",
    "    'R4_time': R4_time,\n",
    "    'R4GT_time': R4GT_time,\n",
    "    'R3_Hdist': R3_Hdist,\n",
    "    'R4_Hdist': R4_Hdist,\n",
    "    'R4GT_Hdist': R4GT_Hdist,\n",
    "    'R3_eigs': R3_eigs,\n",
    "    'R4_eigs': R4_eigs,\n",
    "    'R4GT_eigs': R4GT_eigs,\n",
    "}\n",
    "\n",
    "results = pd.DataFrame(dict)\n",
    "results.to_pickle('results/logistic_map/logistic_map_results_1e-3_r10.pkl')"
   ],
   "metadata": {
    "collapsed": false,
    "ExecuteTime": {
     "end_time": "2023-11-22T12:18:51.929753Z",
     "start_time": "2023-11-22T12:18:51.859105Z"
    }
   }
  },
  {
   "cell_type": "code",
   "execution_count": 43,
   "outputs": [
    {
     "data": {
      "text/plain": "<Figure size 1000x600 with 4 Axes>",
      "image/png": "[encoded data removed]"
     },
     "metadata": {},
     "output_type": "display_data"
    }
   ],
   "source": [
    "results = pd.read_pickle(\"results/logistic_map/logistic_map_results_1e-3_r10.pkl\")\n",
    "cycle = plt.rcParams['axes.prop_cycle'].by_key()['color']\n",
    "\n",
    "n = results['n_training_samples']\n",
    "\n",
    "fig_width = 10 #Inches\n",
    "fig_height = 6 #Inches\n",
    "\n",
    "fig, axes = plt.subplots(ncols=2, nrows=2, figsize=(fig_width, fig_height))\n",
    "axes = axes.flatten()\n",
    "\n",
    "ax = axes[0]\n",
    "ax.plot(n, results.R3_risk_train, color=cycle[0])\n",
    "\n",
    "R4_avg = results.R4_risk_train.apply(np.mean)\n",
    "# R4_avg = results.R4_risk_train.apply(np.min)\n",
    "R4_std = results.R4_risk_train.apply(np.std)\n",
    "# ax.plot(n, R4_avg, color=cycle[1])\n",
    "# ax.fill_between(n, R4_avg + R4_std, R4_avg - R4_std, color=cycle[1], alpha=0.2)\n",
    "ax.plot(n, np.stack(results.R4_risk_train), color=cycle[1])\n",
    "\n",
    "R4_avg = results.R4GT_risk_train.apply(np.mean)\n",
    "# R4_avg = results.R4GT_risk_train.apply(np.min)\n",
    "R4_std = results.R4GT_risk_train.apply(np.std)\n",
    "# ax.plot(n, R4_avg, color=cycle[2])\n",
    "ax.plot(n, np.stack(results.R4GT_risk_train), color=cycle[2])\n",
    "# ax.fill_between(n, R4_avg + R4_std, R4_avg - R4_std, color=cycle[2], alpha=0.2)\n",
    "ax.set_xlabel('Sample size') \n",
    "ax.set_ylabel('Training risk') \n",
    "\n",
    "ax = axes[1]\n",
    "ax.plot(n, results.R3_risk_test, color=cycle[0])\n",
    "R4_avg = results.R4_risk_test.apply(np.mean)\n",
    "R4_std = results.R4_risk_test.apply(np.std)\n",
    "ax.plot(n, R4_avg, color=cycle[1])\n",
    "ax.fill_between(n, R4_avg + R4_std, R4_avg - R4_std, color=cycle[1], alpha=0.2)\n",
    "R4_avg = results.R4GT_risk_test.apply(np.mean)\n",
    "R4_std = results.R4GT_risk_test.apply(np.std)\n",
    "ax.plot(n, R4_avg, color=cycle[2])\n",
    "ax.fill_between(n, R4_avg + R4_std, R4_avg - R4_std, color=cycle[2], alpha=0.2)\n",
    "ax.set_xlabel('Sample size') \n",
    "ax.set_ylabel('Test risk') \n",
    "\n",
    "ax = axes[2]\n",
    "ax.plot(n, results.R3_Hdist, color=cycle[0])\n",
    "R4_avg = results.R4_Hdist.apply(np.mean)\n",
    "R4_std = results.R4_Hdist.apply(np.std)\n",
    "ax.plot(n, R4_avg, color=cycle[1])\n",
    "ax.fill_between(n, R4_avg + R4_std, R4_avg - R4_std, color=cycle[1], alpha=0.2)\n",
    "R4_avg = results.R4GT_Hdist.apply(np.mean)\n",
    "R4_std = results.R4GT_Hdist.apply(np.std)\n",
    "ax.plot(n, R4_avg, color=cycle[2])\n",
    "ax.fill_between(n, R4_avg + R4_std, R4_avg - R4_std, color=cycle[2], alpha=0.2)\n",
    "ax.set_xlabel('Sample size') \n",
    "ax.set_ylabel('Hausdorff distance') \n",
    "\n",
    "ax = axes[3]\n",
    "ax.plot(n, results.R3_time, color=cycle[0], label = 'R3')\n",
    "R4_avg = results.R4_time.apply(np.mean)\n",
    "R4_std = results.R4_time.apply(np.std)\n",
    "ax.plot(n, R4_avg, color=cycle[1], label = 'R4')\n",
    "ax.fill_between(n, R4_avg + R4_std, R4_avg - R4_std, color=cycle[1], alpha=0.2)\n",
    "R4_avg = results.R4GT_time.apply(np.mean)\n",
    "R4_std = results.R4GT_time.apply(np.std)\n",
    "ax.plot(n, R4_avg, color=cycle[2], label = 'R4 chol')\n",
    "ax.fill_between(n, R4_avg + R4_std, R4_avg - R4_std, color=cycle[2], alpha=0.2)\n",
    "ax.legend()\n",
    "ax.set_xlabel('Sample size') \n",
    "ax.set_ylabel('Execution time [s]') \n",
    "ax.set_yscale('log')\n",
    "ax.set_xscale('log')\n",
    "\n",
    "for ax in axes:\n",
    "    ax.set_xticks(n)\n",
    "\n",
    "plt.tight_layout()\n",
    "plt.show()\n",
    "fig.savefig(\"results/logistic_map/logistic_map_results_1e-3_r10.pdf\",  bbox_inches='tight')"
   ],
   "metadata": {
    "collapsed": false,
    "ExecuteTime": {
     "end_time": "2023-11-22T12:23:38.479550Z",
     "start_time": "2023-11-22T12:23:37.158210Z"
    }
   }
  },
  {
   "cell_type": "code",
   "execution_count": 38,
   "outputs": [
    {
     "data": {
      "text/plain": "0    0.100483\n1    0.093309\n2    0.085494\n3    0.083891\n4    0.085204\nName: R3_risk_train, dtype: float64"
     },
     "execution_count": 38,
     "metadata": {},
     "output_type": "execute_result"
    }
   ],
   "source": [
    "results.R3_risk_train"
   ],
   "metadata": {
    "collapsed": false,
    "ExecuteTime": {
     "end_time": "2023-11-22T12:20:16.437201Z",
     "start_time": "2023-11-22T12:20:16.382034Z"
    }
   }
  },
  {
   "cell_type": "code",
   "execution_count": 24,
   "outputs": [
    {
     "data": {
      "text/plain": "<Figure size 640x480 with 1 Axes>",
      "image/png": "[encoded data removed]"
     },
     "metadata": {},
     "output_type": "display_data"
    }
   ],
   "source": [
    "plt.plot(np.stack(results.R4_risk_train), color=cycle[2])\n",
    "plt.show()"
   ],
   "metadata": {
    "collapsed": false,
    "ExecuteTime": {
     "end_time": "2023-11-22T11:53:09.678905Z",
     "start_time": "2023-11-22T11:53:09.550104Z"
    }
   }
  },
  {
   "cell_type": "code",
   "execution_count": null,
   "outputs": [],
   "source": [
    "# n_training_samples = [500, 1000, 2000, 5000, 10000]\n",
    "n_training_samples = [500, 1000, 2000, 5000]\n",
    "\n",
    "test_ctx = traj_to_contexts(dataset['test'])\n",
    "val_ctx = traj_to_contexts(dataset['validation'])\n",
    "\n",
    "R3_risk = []\n",
    "R4_risk = []\n",
    "\n",
    "R3_time = []\n",
    "R4_time = []\n",
    "\n",
    "R3_Hdist = []\n",
    "R4_Hdist = []\n",
    "\n",
    "R3_eigs = []\n",
    "R4_eigs = []\n",
    "\n",
    "R4GT_risk = []\n",
    "R4GT_eigs = []\n",
    "R4GT_Hdist = []\n",
    "R4GT_time = []\n",
    "\n",
    "for n in n_training_samples:\n",
    "    print('Training Sample size: ', n)\n",
    "    # train_traj = resample(dataset['train'], replace=False, n_samples=n, random_state=0)\n",
    "    train_traj = dataset['train'][:n]\n",
    "    train_ctx = traj_to_contexts(train_traj)\n",
    "    \n",
    "    num_ls = 5\n",
    "    ls_quantiles = np.linspace(0.05, 0.95, num_ls)\n",
    "    ls_grid = np.quantile(pdist(train_traj), ls_quantiles)\n",
    "    reg_grid = np.logspace(-5, 0, 6)\n",
    "    hp_grid = ParameterGrid({'ls': ls_grid, 'reg': reg_grid})\n",
    "    \n",
    "    best_risk, best_vals, best_model, _ = grid_search(hp_grid, 'arnoldi')\n",
    "    ls = best_vals['ls']\n",
    "    reg = best_vals['reg']\n",
    "    kernel = RBF(length_scale=ls)\n",
    "    \n",
    "    R3 = KernelDMD(kernel = kernel, rank = configs.rank, tikhonov_reg = reg, svd_solver='arnoldi')\n",
    "    # R4 = KernelDMD(kernel = kernel, rank = configs.rank, tikhonov_reg = reg, svd_solver='randomized', n_oversamples=20, rng_seed=0)\n",
    "    \n",
    "    timed_fit = timer(R3.fit)\n",
    "    R3, fit_time_R3 = timed_fit(train_ctx)\n",
    "    R3_risk.append(R3.risk(test_ctx))\n",
    "    R3_time.append(fit_time_R3)\n",
    "    eigs = R3.eig()\n",
    "    top_eigs = topk(np.abs(eigs), 3)\n",
    "    R3_eigs.append(eigs[top_eigs.indices])\n",
    "    R3_Hdist.append(directed_hausdorff_distance(R3_eigs[-1], ref_eigs))\n",
    "\n",
    "    best_risk, best_vals, best_model, _ = grid_search(hp_grid, 'randomized')\n",
    "    ls = best_vals['ls']\n",
    "    reg = best_vals['reg']\n",
    "    kernel = RBF(length_scale=ls)\n",
    "\n",
    "    risks, eigs, Hdists, timings = R4_repeated_runs(10, False)\n",
    "    R4_risk.append(risks)\n",
    "    R4_eigs.append(eigs)\n",
    "    R4_Hdist.append(Hdists)\n",
    "    R4_time.append(timings)\n",
    "    \n",
    "    risks, eigs, Hdists, timings = R4_repeated_runs(10, True)\n",
    "    R4GT_risk.append(risks)\n",
    "    R4GT_eigs.append(eigs)\n",
    "    R4GT_Hdist.append(Hdists)\n",
    "    R4GT_time.append(timings)"
   ],
   "metadata": {
    "collapsed": false,
    "is_executing": true
   }
  },
  {
   "cell_type": "code",
   "execution_count": null,
   "outputs": [],
   "source": [
    "dict = {\n",
    "    'n_training_samples': n_training_samples,\n",
    "    'R3_risk': R3_risk,\n",
    "    'R4_risk': R4_risk,\n",
    "    'R4GT_risk': R4GT_risk,\n",
    "    'R3_time': R3_time,\n",
    "    'R4_time': R4_time,\n",
    "    'R4GT_time': R4GT_time,\n",
    "    'R3_Hdist': R3_Hdist,\n",
    "    'R4_Hdist': R4_Hdist,\n",
    "    'R4GT_Hdist': R4GT_Hdist,\n",
    "    'R3_eigs': R3_eigs,\n",
    "    'R4_eigs': R4_eigs,\n",
    "    'R4GT_eigs': R4GT_eigs,\n",
    "}\n",
    "\n",
    "results = pd.DataFrame(dict)\n",
    "results.to_pickle('results/logistic_map/logistic_map_results_R4HPO.pkl')"
   ],
   "metadata": {
    "collapsed": false
   }
  },
  {
   "cell_type": "code",
   "execution_count": null,
   "outputs": [],
   "source": [
    "results = pd.read_pickle(\"results/logistic_map/logistic_map_results_R4HPO.pkl\")\n",
    "cycle = plt.rcParams['axes.prop_cycle'].by_key()['color']\n",
    "\n",
    "n = results['n_training_samples']\n",
    "\n",
    "fig_width = 8.5 #Inches\n",
    "fig_height = 2.5 #Inches\n",
    "\n",
    "fig, axes = plt.subplots(ncols=3,figsize=(fig_width, fig_height))\n",
    "\n",
    "ax = axes[0]\n",
    "ax.plot(n, results.R3_risk, color=cycle[0])\n",
    "R4_avg = results.R4_risk.apply(np.min)\n",
    "R4_std = results.R4_risk.apply(np.std)\n",
    "ax.plot(n, R4_avg, color=cycle[1])\n",
    "# ax.fill_between(n, R4_avg + R4_std, R4_avg - R4_std, color=cycle[1], alpha=0.3)\n",
    "R4_avg = results.R4GT_risk.apply(np.min)\n",
    "R4_std = results.R4GT_risk.apply(np.std)\n",
    "ax.plot(n, R4_avg, color=cycle[2])\n",
    "# ax.fill_between(n, R4_avg + R4_std, R4_avg - R4_std, color=cycle[2], alpha=0.3)\n",
    "ax.set_xlabel('Sample size') \n",
    "ax.set_ylabel('Risk') \n",
    "\n",
    "ax = axes[1]\n",
    "ax.plot(n, results.R3_Hdist, color=cycle[0])\n",
    "R4_avg = results.R4_Hdist.apply(np.min)\n",
    "R4_std = results.R4_Hdist.apply(np.std)\n",
    "ax.plot(n, R4_avg, color=cycle[1])\n",
    "# ax.fill_between(n, R4_avg + R4_std, R4_avg - R4_std, color=cycle[1], alpha=0.3)\n",
    "R4_avg = results.R4GT_Hdist.apply(np.min)\n",
    "R4_std = results.R4GT_Hdist.apply(np.std)\n",
    "ax.plot(n, R4_avg, color=cycle[2])\n",
    "# ax.fill_between(n, R4_avg + R4_std, R4_avg - R4_std, color=cycle[2], alpha=0.3)\n",
    "ax.set_xlabel('Sample size') \n",
    "ax.set_ylabel('Hausdorff distance') \n",
    "\n",
    "ax = axes[2]\n",
    "ax.plot(n, results.R3_time, color=cycle[0], label = 'R3')\n",
    "R4_avg = results.R4_time.apply(np.median)\n",
    "R4_std = results.R4_time.apply(np.std)\n",
    "ax.plot(n, R4_avg, color=cycle[1], label = 'R4')\n",
    "# ax.fill_between(n, R4_avg + R4_std, R4_avg - R4_std, color=cycle[1], alpha=0.3)\n",
    "R4_avg = results.R4GT_time.apply(np.median)\n",
    "R4_std = results.R4GT_time.apply(np.std)\n",
    "ax.plot(n, R4_avg, color=cycle[2], label = 'R4 chol')\n",
    "# ax.fill_between(n, R4_avg + R4_std, R4_avg - R4_std, color=cycle[2], alpha=0.3)\n",
    "ax.legend()\n",
    "ax.set_xlabel('Sample size') \n",
    "ax.set_ylabel('Execution time [s]') \n",
    "ax.set_yscale('log')\n",
    "ax.set_xscale('log')\n",
    "\n",
    "plt.tight_layout()\n",
    "plt.show()\n",
    "fig.savefig(\"results/logistic_map/logistic_map_results_R4HPO.pdf\",  bbox_inches='tight')\n"
   ],
   "metadata": {
    "collapsed": false
   }
  },
  {
   "cell_type": "code",
   "execution_count": null,
   "outputs": [],
   "source": [
    "results.R3_risk"
   ],
   "metadata": {
    "collapsed": false
   }
  },
  {
   "cell_type": "code",
   "execution_count": null,
   "outputs": [],
   "source": [],
   "metadata": {
    "collapsed": false
   }
  }
 ],
 "metadata": {
  "kernelspec": {
   "display_name": "kooplearn",
   "language": "python",
   "name": "python3"
  },
  "language_info": {
   "codemirror_mode": {
    "name": "ipython",
    "version": 3
   },
   "file_extension": ".py",
   "mimetype": "text/x-python",
   "name": "python",
   "nbconvert_exporter": "python",
   "pygments_lexer": "ipython3",
   "version": "3.11.4"
  }
 },
 "nbformat": 4,
 "nbformat_minor": 2
}
