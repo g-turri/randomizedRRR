{
 "cells": [
  {
   "cell_type": "markdown",
   "source": [
    "# Noisy Logistic Map experiment"
   ],
   "metadata": {
    "collapsed": false
   },
   "id": "32018758c0c62f6d"
  },
  {
   "cell_type": "markdown",
   "source": [
    "### Importing libraries"
   ],
   "metadata": {
    "collapsed": false
   },
   "id": "4f3ff250254d0237"
  },
  {
   "cell_type": "code",
   "outputs": [],
   "source": [
    "import functools\n",
    "import pandas as pd\n",
    "import numpy as np\n",
    "import ml_confs\n",
    "import matplotlib.pyplot as plt\n",
    "\n",
    "from time import perf_counter\n",
    "from kooplearn.datasets import LogisticMap\n",
    "from kooplearn.models import KernelDMD\n",
    "from kooplearn.data import traj_to_contexts\n",
    "from kooplearn._src.utils import topk\n",
    "from kooplearn._src.metrics import directed_hausdorff_distance\n",
    "from sklearn.gaussian_process.kernels import RBF\n",
    "from sklearn.model_selection import ParameterGrid\n",
    "from tqdm import tqdm\n",
    "from scipy import stats"
   ],
   "metadata": {
    "collapsed": false,
    "ExecuteTime": {
     "end_time": "2024-01-26T16:41:03.924981Z",
     "start_time": "2024-01-26T16:41:03.044143Z"
    }
   },
   "id": "23ccf69010fb5348",
   "execution_count": 1
  },
  {
   "cell_type": "markdown",
   "source": [
    "### Defining some functions"
   ],
   "metadata": {
    "collapsed": false
   },
   "id": "c2b8335d866f71fb"
  },
  {
   "cell_type": "code",
   "outputs": [],
   "source": [
    "configs_dict = {\n",
    "    'N': 20,\n",
    "    'num_train': 20000,\n",
    "    'num_val': 5000,\n",
    "    'num_test': 10000,\n",
    "    'rank': 3,\n",
    "}\n",
    "\n",
    "configs = ml_confs.from_dict(configs_dict, register_jax_pytree=False)\n",
    "\n",
    "def timer(func):\n",
    "    @functools.wraps(func)\n",
    "    def wrapper_timer(*args, **kwargs):\n",
    "        tic = perf_counter()\n",
    "        value = func(*args, **kwargs)\n",
    "        toc = perf_counter()\n",
    "        elapsed_time = toc - tic\n",
    "        return value, elapsed_time\n",
    "\n",
    "    return wrapper_timer\n",
    "\n",
    "plt.rcParams.update({\n",
    "    # \"text.usetex\": matplotlib.checkdep_usetex(True),\n",
    "    # \"text.usetex\": True,\n",
    "    # \"text.latex.preamble\": r'\\usepackage{amssymb}',\n",
    "    # \"mathtext.fontset\": \"dejavuserif\",\n",
    "    # \"font.family\": \"serif\",\n",
    "    # \"font.serif\": [\"Times\"],\n",
    "    \"font.size\": 8,\n",
    "    \"axes.titlesize\": 8,\n",
    "    \"xtick.labelsize\": 7,\n",
    "    \"ytick.labelsize\": 7,\n",
    "    \"legend.fontsize\": 7,\n",
    "})\n",
    "cycle = plt.rcParams['axes.prop_cycle'].by_key()['color']\n",
    "\n",
    "def mean_confidence_interval(data, confidence=0.95):\n",
    "    a = 1.0 * np.array(data)\n",
    "    n = len(a)\n",
    "    m, se = np.mean(a,axis=1), stats.sem(a, axis=1)\n",
    "    h = se * stats.t.ppf((1 + confidence) / 2., n-1)\n",
    "    return m, m-h, m+h\n",
    "\n",
    "def R4_repeated_runs(n_rep):\n",
    "    risks_train = []\n",
    "    risks_test = []\n",
    "    timings = []\n",
    "    eigs = []\n",
    "    Hdist = []\n",
    "    svals = []\n",
    "    model = KernelDMD(kernel = kernel, rank = configs.rank, tikhonov_reg = reg, svd_solver='randomized', n_oversamples=20, iterated_power=1)\n",
    "    for r in tqdm(np.arange(n_rep),total=n_rep,desc='R4 repetitions'):\n",
    "        model.rng_seed = r\n",
    "        timed_fit = timer(model.fit)\n",
    "        model, fit_time = timed_fit(train_ctx, verbose=False)\n",
    "        timings.append(fit_time)\n",
    "        risks_train.append(model.risk())\n",
    "        risks_test.append(model.risk(test_ctx))\n",
    "        svals.append(model.svals())\n",
    "        all_eigs = model.eig()\n",
    "        top_eigs = topk(np.abs(all_eigs), 3)\n",
    "        eigs.append(all_eigs[top_eigs.indices])\n",
    "        Hdist.append(directed_hausdorff_distance(eigs[-1], ref_eigs))\n",
    "    return risks_train, risks_test, eigs, svals, Hdist, timings\n",
    "\n",
    "def R3_repeated_runs(n_rep):\n",
    "    timings = []\n",
    "    model = KernelDMD(kernel = kernel, rank = configs.rank, tikhonov_reg = reg, svd_solver='arnoldi')\n",
    "    for r in tqdm(np.arange(n_rep),total=n_rep,desc='R3 repetitions'):\n",
    "        model.rng_seed = r\n",
    "        timed_fit = timer(model.fit)\n",
    "        model, fit_time = timed_fit(train_ctx, verbose=False)\n",
    "        timings.append(fit_time)\n",
    "    return timings\n",
    "\n",
    "def train_and_eval(ls, reg, kernel, svd_solver, n_oversamples=20, rank=configs.rank, rng_seed=0):\n",
    "    kernel = kernel(length_scale=ls)\n",
    "    if svd_solver == 'randomized':\n",
    "        model = KernelDMD(kernel=kernel, rank=rank, tikhonov_reg=reg, svd_solver=svd_solver, n_oversamples=n_oversamples,\n",
    "                          rng_seed=rng_seed)\n",
    "    else:\n",
    "        model = KernelDMD(kernel=kernel, rank=rank, tikhonov_reg=reg, svd_solver=svd_solver,\n",
    "                          n_oversamples=n_oversamples,\n",
    "                          rng_seed=rng_seed)\n",
    "    timed_fit = timer(model.fit)\n",
    "    model, fit_time = timed_fit(train_ctx, verbose=False)\n",
    "    val_risk = model.risk(val_ctx)\n",
    "    return model, val_risk, fit_time\n",
    "\n",
    "def grid_search(hp_grid, svd_solver):\n",
    "    best_risk = np.inf\n",
    "    best_vals = None\n",
    "    best_model = None\n",
    "\n",
    "    timings = []\n",
    "    risks = []\n",
    "    kernel = RBF\n",
    "\n",
    "    for hp in tqdm(hp_grid, total=len(hp_grid), desc='HP tuning'):\n",
    "        model, val_risk, fit_time = train_and_eval(hp['ls'], hp['reg'], kernel, svd_solver, rng_seed=42)\n",
    "        timings.append(fit_time)\n",
    "        risks.append(val_risk)\n",
    "        if val_risk < best_risk:\n",
    "            best_risk = val_risk\n",
    "            best_vals = hp\n",
    "            best_model = model\n",
    "\n",
    "    return best_risk, best_vals, best_model, timings"
   ],
   "metadata": {
    "collapsed": false,
    "ExecuteTime": {
     "end_time": "2024-01-26T16:41:05.043411Z",
     "start_time": "2024-01-26T16:41:05.023477Z"
    }
   },
   "id": "cf50a6daf52530ad",
   "execution_count": 2
  },
  {
   "cell_type": "markdown",
   "source": [
    "### Dataset generation"
   ],
   "metadata": {
    "collapsed": false
   },
   "id": "122d4b4d0c58774a"
  },
  {
   "cell_type": "code",
   "outputs": [
    {
     "data": {
      "text/plain": "<Figure size 500x500 with 1 Axes>",
      "image/png": "[encoded data removed]"
     },
     "metadata": {},
     "output_type": "display_data"
    }
   ],
   "source": [
    "logistic = LogisticMap(N=configs.N, rng_seed=42)\n",
    "# Data pipeline\n",
    "sample_traj = logistic.sample(\n",
    "    0.5, configs.num_train + configs.num_val + configs.num_test\n",
    ")\n",
    "\n",
    "dataset = {\n",
    "    \"train\": sample_traj[: configs.num_train],\n",
    "    \"validation\": sample_traj[configs.num_train : configs.num_train + configs.num_val],\n",
    "    \"test\": sample_traj[configs.num_train + configs.num_val :],\n",
    "}\n",
    "\n",
    "ref_eigs = logistic.eig()\n",
    "top_eigs = topk(np.abs(ref_eigs), 3)\n",
    "ref_eigs = ref_eigs[top_eigs.indices]\n",
    "\n",
    "fig, ax = plt.subplots(figsize=(5, 5))\n",
    "ax.scatter(ref_eigs.real, ref_eigs.imag)\n",
    "theta = np.linspace(0, 2*np.pi, 100)\n",
    "ax.plot(np.cos(theta), np.sin(theta), linestyle='-', color='#999', lw=0.75)\n",
    "ax.set_xlabel('Real part')\n",
    "ax.set_ylabel('Imaginary part')\n",
    "ax.set_title('Eigenvalues')\n",
    "plt.show()"
   ],
   "metadata": {
    "collapsed": false,
    "ExecuteTime": {
     "end_time": "2024-01-26T16:41:11.480063Z",
     "start_time": "2024-01-26T16:41:06.843547Z"
    }
   },
   "id": "3d04f135d65de6a8",
   "execution_count": 3
  },
  {
   "cell_type": "markdown",
   "source": [
    "### Running the experiment"
   ],
   "metadata": {
    "collapsed": false
   },
   "id": "d3a7ca0c4375ec63"
  },
  {
   "cell_type": "code",
   "outputs": [
    {
     "name": "stderr",
     "output_type": "stream",
     "text": [
      "Warning: 2 out of the 5 squared singular values are smaller than the regularization strength 1.00e-07. Consider redudcing the regularization strength to avoid overfitting.\n"
     ]
    },
    {
     "name": "stdout",
     "output_type": "stream",
     "text": [
      "Training Sample size:  200\n"
     ]
    },
    {
     "name": "stderr",
     "output_type": "stream",
     "text": [
      "R4 repetitions:   0%|          | 0/100 [00:00<?, ?it/s]/home/gturri/miniconda3/envs/torch/lib/python3.10/site-packages/kooplearn/_src/operator_regression/dual.py:282: RuntimeWarning: invalid value encountered in sqrt\n",
      "  normalization_csts = (np.sum(vectors.conj() * (F_0 @ vectors), axis=0).real) ** 0.5\n",
      "R4 repetitions: 100%|██████████| 100/100 [03:34<00:00,  2.15s/it]\n",
      "Warning: 4 out of the 7 squared singular values are smaller than the regularization strength 1.00e-07. Consider redudcing the regularization strength to avoid overfitting.\n"
     ]
    },
    {
     "name": "stdout",
     "output_type": "stream",
     "text": [
      "Training Sample size:  300\n"
     ]
    },
    {
     "name": "stderr",
     "output_type": "stream",
     "text": [
      "R4 repetitions: 100%|██████████| 100/100 [03:36<00:00,  2.16s/it]\n",
      "Warning: 4 out of the 7 squared singular values are smaller than the regularization strength 1.00e-07. Consider redudcing the regularization strength to avoid overfitting.\n"
     ]
    },
    {
     "name": "stdout",
     "output_type": "stream",
     "text": [
      "Training Sample size:  400\n"
     ]
    },
    {
     "name": "stderr",
     "output_type": "stream",
     "text": [
      "R4 repetitions: 100%|██████████| 100/100 [03:38<00:00,  2.19s/it]\n"
     ]
    },
    {
     "name": "stdout",
     "output_type": "stream",
     "text": [
      "Training Sample size:  500\n"
     ]
    },
    {
     "name": "stderr",
     "output_type": "stream",
     "text": [
      "Warning: 4 out of the 7 squared singular values are smaller than the regularization strength 1.00e-07. Consider redudcing the regularization strength to avoid overfitting.\n",
      "R4 repetitions: 100%|██████████| 100/100 [03:42<00:00,  2.22s/it]\n",
      "Warning: 4 out of the 7 squared singular values are smaller than the regularization strength 1.00e-07. Consider redudcing the regularization strength to avoid overfitting.\n"
     ]
    },
    {
     "name": "stdout",
     "output_type": "stream",
     "text": [
      "Training Sample size:  600\n"
     ]
    },
    {
     "name": "stderr",
     "output_type": "stream",
     "text": [
      "R4 repetitions: 100%|██████████| 100/100 [03:44<00:00,  2.25s/it]\n",
      "Warning: 5 out of the 8 squared singular values are smaller than the regularization strength 1.00e-07. Consider redudcing the regularization strength to avoid overfitting.\n"
     ]
    },
    {
     "name": "stdout",
     "output_type": "stream",
     "text": [
      "Training Sample size:  700\n"
     ]
    },
    {
     "name": "stderr",
     "output_type": "stream",
     "text": [
      "R4 repetitions: 100%|██████████| 100/100 [03:47<00:00,  2.28s/it]\n",
      "Warning: 3 out of the 6 squared singular values are smaller than the regularization strength 1.00e-07. Consider redudcing the regularization strength to avoid overfitting.\n"
     ]
    },
    {
     "name": "stdout",
     "output_type": "stream",
     "text": [
      "Training Sample size:  800\n"
     ]
    },
    {
     "name": "stderr",
     "output_type": "stream",
     "text": [
      "R4 repetitions: 100%|██████████| 100/100 [03:50<00:00,  2.31s/it]\n",
      "Warning: 3 out of the 6 squared singular values are smaller than the regularization strength 1.00e-07. Consider redudcing the regularization strength to avoid overfitting.\n"
     ]
    },
    {
     "name": "stdout",
     "output_type": "stream",
     "text": [
      "Training Sample size:  900\n"
     ]
    },
    {
     "name": "stderr",
     "output_type": "stream",
     "text": [
      "R4 repetitions: 100%|██████████| 100/100 [03:53<00:00,  2.34s/it]\n",
      "Warning: 3 out of the 6 squared singular values are smaller than the regularization strength 1.00e-07. Consider redudcing the regularization strength to avoid overfitting.\n"
     ]
    },
    {
     "name": "stdout",
     "output_type": "stream",
     "text": [
      "Training Sample size:  1000\n"
     ]
    },
    {
     "name": "stderr",
     "output_type": "stream",
     "text": [
      "R4 repetitions: 100%|██████████| 100/100 [03:56<00:00,  2.37s/it]\n"
     ]
    },
    {
     "name": "stdout",
     "output_type": "stream",
     "text": [
      "Training Sample size:  2000\n"
     ]
    },
    {
     "name": "stderr",
     "output_type": "stream",
     "text": [
      "Warning: 3 out of the 6 squared singular values are smaller than the regularization strength 1.00e-07. Consider redudcing the regularization strength to avoid overfitting.\n",
      "R4 repetitions: 100%|██████████| 100/100 [04:35<00:00,  2.75s/it]\n"
     ]
    },
    {
     "name": "stdout",
     "output_type": "stream",
     "text": [
      "Training Sample size:  3000\n"
     ]
    },
    {
     "name": "stderr",
     "output_type": "stream",
     "text": [
      "Warning: 1 out of the 4 squared singular values are smaller than the regularization strength 1.00e-07. Consider redudcing the regularization strength to avoid overfitting.\n",
      "R4 repetitions: 100%|██████████| 100/100 [05:46<00:00,  3.46s/it]\n"
     ]
    },
    {
     "name": "stdout",
     "output_type": "stream",
     "text": [
      "Training Sample size:  4000\n"
     ]
    },
    {
     "name": "stderr",
     "output_type": "stream",
     "text": [
      "Warning: 1 out of the 4 squared singular values are smaller than the regularization strength 1.00e-07. Consider redudcing the regularization strength to avoid overfitting.\n",
      "R4 repetitions: 100%|██████████| 100/100 [07:09<00:00,  4.30s/it]\n"
     ]
    },
    {
     "name": "stdout",
     "output_type": "stream",
     "text": [
      "Training Sample size:  5000\n"
     ]
    },
    {
     "name": "stderr",
     "output_type": "stream",
     "text": [
      "Warning: 2 out of the 5 squared singular values are smaller than the regularization strength 1.00e-07. Consider redudcing the regularization strength to avoid overfitting.\n",
      "R4 repetitions: 100%|██████████| 100/100 [08:48<00:00,  5.28s/it]\n"
     ]
    },
    {
     "name": "stdout",
     "output_type": "stream",
     "text": [
      "Training Sample size:  6000\n"
     ]
    },
    {
     "name": "stderr",
     "output_type": "stream",
     "text": [
      "Warning: 2 out of the 5 squared singular values are smaller than the regularization strength 1.00e-07. Consider redudcing the regularization strength to avoid overfitting.\n",
      "R4 repetitions: 100%|██████████| 100/100 [10:50<00:00,  6.50s/it]\n"
     ]
    },
    {
     "name": "stdout",
     "output_type": "stream",
     "text": [
      "Training Sample size:  7000\n"
     ]
    },
    {
     "name": "stderr",
     "output_type": "stream",
     "text": [
      "Warning: 4 out of the 7 squared singular values are smaller than the regularization strength 1.00e-07. Consider redudcing the regularization strength to avoid overfitting.\n",
      "R4 repetitions: 100%|██████████| 100/100 [13:13<00:00,  7.94s/it]\n"
     ]
    },
    {
     "name": "stdout",
     "output_type": "stream",
     "text": [
      "Training Sample size:  8000\n"
     ]
    },
    {
     "name": "stderr",
     "output_type": "stream",
     "text": [
      "Warning: 1 out of the 4 squared singular values are smaller than the regularization strength 1.00e-07. Consider redudcing the regularization strength to avoid overfitting.\n",
      "R4 repetitions: 100%|██████████| 100/100 [16:07<00:00,  9.68s/it]\n"
     ]
    },
    {
     "name": "stdout",
     "output_type": "stream",
     "text": [
      "Training Sample size:  9000\n"
     ]
    },
    {
     "name": "stderr",
     "output_type": "stream",
     "text": [
      "Warning: 2 out of the 5 squared singular values are smaller than the regularization strength 1.00e-07. Consider redudcing the regularization strength to avoid overfitting.\n",
      "R4 repetitions: 100%|██████████| 100/100 [19:25<00:00, 11.66s/it]\n"
     ]
    },
    {
     "name": "stdout",
     "output_type": "stream",
     "text": [
      "Training Sample size:  10000\n"
     ]
    },
    {
     "name": "stderr",
     "output_type": "stream",
     "text": [
      "Warning: 3 out of the 6 squared singular values are smaller than the regularization strength 1.00e-07. Consider redudcing the regularization strength to avoid overfitting.\n",
      "R4 repetitions: 100%|██████████| 100/100 [23:11<00:00, 13.92s/it]\n"
     ]
    }
   ],
   "source": [
    "n_training_samples = np.concatenate([np.arange(200,1000,100),np.arange(1000,10001,1000),])\n",
    "\n",
    "test_ctx = traj_to_contexts(dataset['test'])\n",
    "val_ctx = traj_to_contexts(dataset['validation'])\n",
    "\n",
    "R3_risk_test = []\n",
    "R4_risk_test = []\n",
    "R3_risk_train = []\n",
    "R4_risk_train = []\n",
    "R3_time = []\n",
    "R4_time = []\n",
    "R3_Hdist = []\n",
    "R4_Hdist = []\n",
    "R3_eigs = []\n",
    "R3_svals = []\n",
    "R4_eigs = []\n",
    "R4_svals = []\n",
    "\n",
    "for n in n_training_samples:\n",
    "    print('Training Sample size: ', n)\n",
    "    train_traj = dataset['train'][:n]\n",
    "    train_ctx = traj_to_contexts(train_traj)\n",
    "\n",
    "    ls_grid = [1]\n",
    "    reg_grid = [1e-7]\n",
    "    hp_grid = ParameterGrid({'ls': ls_grid, 'reg': reg_grid})\n",
    "\n",
    "    if len(hp_grid) >1:\n",
    "        best_risk, best_vals, best_model, _ = grid_search(hp_grid, 'arnoldi')\n",
    "        print(best_risk, best_vals)\n",
    "        ls = best_vals['ls']\n",
    "        reg = best_vals['reg']\n",
    "    else:\n",
    "        ls = ls_grid[0]\n",
    "        reg = reg_grid[0]\n",
    "\n",
    "    kernel = RBF(length_scale=ls)\n",
    "    R3 = KernelDMD(kernel=kernel, rank=configs.rank, tikhonov_reg=reg, svd_solver='arnoldi', rng_seed=0)\n",
    "\n",
    "    timed_fit = timer(R3.fit)\n",
    "    R3, fit_time = timed_fit(train_ctx, verbose=False)\n",
    "    R3_risk_train.append(R3.risk())\n",
    "    R3_risk_test.append(R3.risk(test_ctx))\n",
    "    eigs = R3.eig()\n",
    "    top_eigs = topk(np.abs(eigs), 3)\n",
    "    R3_eigs.append(eigs[top_eigs.indices])\n",
    "    R3_Hdist.append(directed_hausdorff_distance(R3_eigs[-1], ref_eigs))\n",
    "    R3_svals.append(R3.svals())\n",
    "    R3_time.append(fit_time)\n",
    "\n",
    "    risks_train, risks_test, eigs, svals, Hdists, timings = R4_repeated_runs(100)\n",
    "    R4_risk_train.append(risks_train)\n",
    "    R4_risk_test.append(risks_test)\n",
    "    R4_eigs.append(eigs)\n",
    "    R4_Hdist.append(Hdists)\n",
    "    R4_time.append(timings)\n",
    "    R4_svals.append(svals)\n",
    "\n",
    "dict = {\n",
    "    'n_training_samples': n_training_samples,\n",
    "    'R3_risk_train': R3_risk_train,\n",
    "    'R3_risk_test': R3_risk_test,\n",
    "    'R4_risk_train': R4_risk_train,\n",
    "    'R4_risk_test': R4_risk_test,\n",
    "    'R3_time': R3_time,\n",
    "    'R4_time': R4_time,\n",
    "    'R3_Hdist': R3_Hdist,\n",
    "    'R4_Hdist': R4_Hdist,\n",
    "    'R3_eigs': R3_eigs,\n",
    "    'R3_svals': R3_svals,\n",
    "    'R4_eigs': R4_eigs,\n",
    "    'R4_svals': R4_svals\n",
    "}\n",
    "\n",
    "results = pd.DataFrame(dict)\n",
    "results.to_pickle('noisy_logistic_map.pkl')"
   ],
   "metadata": {
    "collapsed": false,
    "ExecuteTime": {
     "end_time": "2024-01-26T19:07:26.046923Z",
     "start_time": "2024-01-26T16:41:35.658506Z"
    }
   },
   "id": "51bb7e88242b6f86",
   "execution_count": 5
  },
  {
   "cell_type": "markdown",
   "source": [
    "### Plotting Figure 4"
   ],
   "metadata": {
    "collapsed": false
   },
   "id": "a08121b20ac59968"
  },
  {
   "cell_type": "code",
   "outputs": [],
   "source": [
    "from pseudopy import NonnormalMeshgrid\n",
    "import scipy.integrate\n",
    "N = logistic.N\n",
    "def alphas_mat_el(i: int, j: int):\n",
    "    def pairing(x):\n",
    "        return logistic.noise_feature_composed_map(\n",
    "            x, i\n",
    "        ) * logistic.noise_feature_composed_map(x, j)\n",
    "\n",
    "    return scipy.integrate.quad(pairing, 0, 1)[0]\n",
    "\n",
    "def betas_mat_el(i: int, j: int):\n",
    "    def pairing(x):\n",
    "        return logistic.noise_feature(x, i) * logistic.noise_feature(x, j)\n",
    "\n",
    "    return scipy.integrate.quad(pairing, 0, 1)[0]\n",
    "\n",
    "def koopman_el(i: int, j: int):\n",
    "    def pairing(x):\n",
    "        return logistic.noise_feature(x, i) * logistic.noise_feature_composed_map(x, j)\n",
    "\n",
    "    return scipy.integrate.quad(pairing, 0, 1)[0]\n",
    "\n",
    "def fmt_fn(level):\n",
    "    level_exp = str(int(np.round(np.log10(level), 0)))\n",
    "    return f\"$10^{{{level_exp}}}$\"\n",
    "\n",
    "K = np.array([[koopman_el(i, j) for j in range(N + 1)] for i in range(N + 1)])\n",
    "psspectra = NonnormalMeshgrid(K, real_n = 200, imag_n = 200)"
   ],
   "metadata": {
    "collapsed": false,
    "ExecuteTime": {
     "end_time": "2024-01-26T19:11:02.593908Z",
     "start_time": "2024-01-26T19:10:57.353870Z"
    }
   },
   "id": "c016bf684c0a0aa",
   "execution_count": 6
  },
  {
   "cell_type": "code",
   "outputs": [
    {
     "data": {
      "text/plain": "<Figure size 600x180 with 3 Axes>",
      "image/png": "[encoded data removed]"
     },
     "metadata": {},
     "output_type": "display_data"
    }
   ],
   "source": [
    "results = pd.read_pickle('noisy_logistic_map.pkl')\n",
    "cycle = plt.rcParams['axes.prop_cycle'].by_key()['color']\n",
    "\n",
    "n = results['n_training_samples']\n",
    "\n",
    "R3_eigs = np.array(results.R3_eigs)\n",
    "R4_eigs = np.array(results.R4_eigs)\n",
    "\n",
    "fig_width = 6 #Inches\n",
    "fig_height = 1.8 #Inches\n",
    "\n",
    "fig, axes = plt.subplots(ncols=3, figsize=(fig_width, fig_height),width_ratios=[0.6,1,1])\n",
    "\n",
    "ax = axes[0]\n",
    "\n",
    "levels = [10 ** i for i in [-5, -4, -3, -2]]\n",
    "contours = ax.contour(psspectra.Real, psspectra.Imag, psspectra.Vals, levels=levels, colors='k', linestyles='dashed',\n",
    "                      linewidths=0.25, zorder=-1)\n",
    "levels = [10 ** -1]\n",
    "contours = ax.contour(psspectra.Real, psspectra.Imag, psspectra.Vals, levels=levels, colors='k', linestyles='dashed',\n",
    "                      linewidths=0.25, zorder=-1)\n",
    "ax.clabel(contours, inline=1, inline_spacing=5, fmt=fmt_fn, fontsize=5, zorder=-1)\n",
    "\n",
    "theta = np.linspace(0, 2*np.pi, 100)\n",
    "ax.plot(np.cos(theta), np.sin(theta), linestyle='-', color='black', lw=0.25, zorder=-1)\n",
    "\n",
    "ax.scatter(ref_eigs.real, ref_eigs.imag, marker='x', color='black', label='true eigs',lw=.5,s=15, zorder=1)\n",
    "ax.scatter(R3_eigs[-1].real, R3_eigs[-1].imag, color=cycle[0], label='$\\mathtt{eig}$(R$^3$)', alpha=1, lw=0, s=10, zorder=1)\n",
    "ax.scatter([], [], color=cycle[1], s=3, lw=0,label='$\\mathtt{eig}$(R$^4$)')\n",
    "for el in R4_eigs[-1]:\n",
    "    ax.scatter(el.real, el.imag, color=cycle[1], s=3, lw=0, zorder=1)\n",
    "\n",
    "ax.set_xlabel('Real part')\n",
    "ax.set_ylabel('Imaginary part')\n",
    "ax.set_title('$n=10^4$', fontsize=7)\n",
    "ax.set_xlim([-1.1, 1.1])\n",
    "ax.set_ylim([-1.1, 1.1])\n",
    "ax.set_box_aspect(1)\n",
    "ax.legend(bbox_to_anchor=(-0.5, 1.3, 1.9, 0.15), loc='upper center', borderaxespad=0,\n",
    "          mode='expand', ncol=3, frameon=False, handletextpad=-0.4)\n",
    "\n",
    "ax = axes[1]\n",
    "h_dist_R3_ref = np.zeros(len(R3_eigs))\n",
    "for i, el in enumerate(R3_eigs):\n",
    "    h_dist_R3_ref[i] = directed_hausdorff_distance(el, ref_eigs)\n",
    "\n",
    "ax.plot(n, h_dist_R3_ref, 'k')\n",
    "ax.set_xlabel('Training samples $n$')\n",
    "ax.set_title(\"$\\mathtt{DHD}$($\\mathtt{eig}$(R$^3$), true eigs)\", fontsize=7)\n",
    "ax.set_xscale('log')\n",
    "ax.set_xmargin(0)\n",
    "\n",
    "ax = axes[2]\n",
    "h_dist_R3_R4 = np.zeros((len(R4_eigs),len(R4_eigs[0])))\n",
    "for i in range(len(R4_eigs)):\n",
    "    for j in range(len(R4_eigs[0])):\n",
    "        h_dist_R3_R4[i,j] = directed_hausdorff_distance(R4_eigs[i][j], R3_eigs[i])\n",
    "\n",
    "m, risk_min, risk_max = mean_confidence_interval(h_dist_R3_R4)\n",
    "\n",
    "ax.plot(n, m, 'k')\n",
    "ax.fill_between(n, risk_min, risk_max, alpha=0.3, color='k', linewidth=0)\n",
    "ax.set_xlabel('Training samples $n$')\n",
    "ax.set_title(\"$\\mathtt{DHD}$($\\mathtt{eig}$(R$^4$), $\\mathtt{eig}$(R$^3$))\", fontsize=7)\n",
    "ax.set_xscale('log')\n",
    "ax.yaxis.offsetText.set_position([-0.1,1])\n",
    "ax.set_xmargin(0)\n",
    "\n",
    "plt.tight_layout()\n",
    "plt.show()\n",
    "fig.savefig(\"noisy_logistic_map.pdf\",  bbox_inches='tight')"
   ],
   "metadata": {
    "collapsed": false,
    "ExecuteTime": {
     "end_time": "2024-01-26T19:11:07.094966Z",
     "start_time": "2024-01-26T19:11:04.148184Z"
    }
   },
   "id": "14ef28bf45b36e0b",
   "execution_count": 7
  }
 ],
 "metadata": {
  "kernelspec": {
   "display_name": "Python 3",
   "language": "python",
   "name": "python3"
  },
  "language_info": {
   "codemirror_mode": {
    "name": "ipython",
    "version": 2
   },
   "file_extension": ".py",
   "mimetype": "text/x-python",
   "name": "python",
   "nbconvert_exporter": "python",
   "pygments_lexer": "ipython2",
   "version": "2.7.6"
  }
 },
 "nbformat": 4,
 "nbformat_minor": 5
}
