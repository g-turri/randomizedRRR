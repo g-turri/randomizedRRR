{
 "cells": [
  {
   "cell_type": "markdown",
   "source": [
    "# Linear System experiment"
   ],
   "metadata": {
    "collapsed": false
   },
   "id": "551b4e24be78245e"
  },
  {
   "cell_type": "markdown",
   "source": [
    "### Importing libraries"
   ],
   "metadata": {
    "collapsed": false
   },
   "id": "2587cf9d3bbb3833"
  },
  {
   "cell_type": "code",
   "outputs": [],
   "source": [
    "import numpy as np\n",
    "import scipy\n",
    "import pickle\n",
    "import torch\n",
    "import copy\n",
    "\n",
    "from randomizedRRR.dual import fit_reduced_rank_regression_tikhonov as fit_R3\n",
    "from randomizedRRR.dual import fit_rand_reduced_rank_regression_tikhonov as fit_R4\n",
    "from randomizedRRR.utils import tonp, frnp\n",
    "from randomizedRRR.kernels import LinearKernel\n",
    "from sklearn.model_selection import ParameterGrid\n",
    "from scipy.special import expit\n",
    "from scipy.linalg import eig\n",
    "from tqdm import tqdm\n",
    "from time import perf_counter"
   ],
   "metadata": {
    "collapsed": false,
    "ExecuteTime": {
     "end_time": "2024-01-23T15:44:57.221338Z",
     "start_time": "2024-01-23T15:44:53.984957Z"
    }
   },
   "id": "fb31e00cdbe07cde",
   "execution_count": 1
  },
  {
   "cell_type": "markdown",
   "source": [
    "### Defining some functions"
   ],
   "metadata": {
    "collapsed": false
   },
   "id": "1b3519072a991cbd"
  },
  {
   "cell_type": "code",
   "outputs": [],
   "source": [
    "def error_bound(x, y, params, num_repetitions):\n",
    "    n = x.shape[0]\n",
    "    kernel = LinearKernel()\n",
    "    K_X = kernel(x)\n",
    "    K_Y = kernel(y)\n",
    "    K_YX = kernel(y, x)\n",
    "    args = {'K_X':K_X, 'K_Y':K_Y, 'tikhonov_reg':params['tikhonov_reg'], 'rank':params['rank'], 'svd_solver':'full',\n",
    "            '_return_singular_values':True}\n",
    "    U_R3, V_R3, svals_sq_R3 = fit_R3(**args)\n",
    "    evals_R3  = estimator_eig(U_R3, V_R3, K_YX)\n",
    "    if params['optimal_sketching']:\n",
    "        covariance_norm = None\n",
    "    else:\n",
    "        inv_n = n ** -1\n",
    "        K_Y = kernel(y)\n",
    "        covariance_norm = tonp(inv_n * torch.linalg.norm(K_Y, ord=2), cuda)\n",
    "    risk_delta = np.zeros(num_repetitions)\n",
    "    evals_R4 = np.zeros((num_repetitions, params['rank']))\n",
    "    for rep_idx in range(num_repetitions):\n",
    "        U_R4, V_R4, svals_sq_R4 = fit_R4(K_X=K_X, K_Y=K_Y, tikhonov_reg=params['tikhonov_reg'], rank=params['rank'],\n",
    "                                         n_oversamples=params['n_oversamples'], iterated_power=params['iterated_power'],\n",
    "                                         optimal_sketching=params['optimal_sketching'], rng_seed=rep_idx,\n",
    "                                         _return_singular_values=True)\n",
    "        evals_R4[rep_idx, :] = estimator_eig(U_R4, V_R4, K_YX)\n",
    "        risk_delta[rep_idx] = risk(U_R4, V_R4, x, y, kernel) - risk(U_R3, V_R3, x, y, kernel)\n",
    "    return theoretical_error_estimate(svals_sq_R3, params['rank'], params['n_oversamples'], params['iterated_power'], covariance_norm), risk_delta, evals_R3, evals_R4\n",
    "\n",
    "def theoretical_error_estimate(svals_sq, rank, n_oversamples, iterated_power, covariance_norm = None):\n",
    "    #Variable renaming to be consistend with paper notation (Theorems 2 and 3).\n",
    "    svals_sq = np.sort(svals_sq)[::-1]\n",
    "    r = rank\n",
    "    s = float(n_oversamples)\n",
    "    p = iterated_power\n",
    "    if covariance_norm is not None:\n",
    "        L = covariance_norm\n",
    "        svals_normed = svals_sq/svals_sq[r-1] #renormalization by sigma_{r + 1}\n",
    "        svals_pre = svals_normed[:r]**-1 #Invert to use in the def of a_r and b_r\n",
    "        svals_post = svals_normed[r:]\n",
    "        c_r = np.sum(svals_post**(2*p))*L\n",
    "        a_r = (svals_sq[r-1]**-1)*c_r*( 1 + ((s - 1)**(-1))*np.sum(svals_pre**(2*p + 1)))\n",
    "        b_r = c_r*(svals_sq[0]/svals_sq[r-1] + ((s - 1)**(-1))*np.sum(svals_pre**(2*p)))\n",
    "    else:\n",
    "        svals_normed = svals_sq/svals_sq[r] #renormalization by sigma_{r + 1}\n",
    "        svals_pre = svals_normed[:r]**-1 #Invert to use in the def of a_r and b_r\n",
    "        svals_post = svals_normed[r:]\n",
    "        a_r = ((s - 1)**(-1))*np.sum(svals_pre**(2*p + 1))*np.sum(svals_post**(2*p + 1))\n",
    "        b_r = (svals_sq[r])*((s - 1)**(-1))*np.sum(svals_pre**(2*p))*np.sum(svals_post**(2*p + 1))\n",
    "    a = (r*a_r*svals_sq[0])/(r + a_r)\n",
    "    return np.minimum(a, b_r)\n",
    "\n",
    "def benchmark_loop(x, y, param_grid):\n",
    "    results = []\n",
    "    for optimal_sketching in [True, False]:\n",
    "        num_parameters = len(param_grid)\n",
    "        theoretical_estimate = np.zeros(num_parameters)\n",
    "        empirical_estimate_mean = np.zeros(num_parameters)\n",
    "        empirical_estimate_std = np.zeros(num_parameters)\n",
    "        risk_deltas = []\n",
    "        for idx, params in tqdm(enumerate(param_grid), total=num_parameters):\n",
    "            params['optimal_sketching'] = optimal_sketching\n",
    "            th_estimate, risk_delta, evals_R3, evals_R4 = error_bound(x, y, params, num_repetitions)\n",
    "            theoretical_estimate[idx] = th_estimate\n",
    "            risk_deltas.append(risk_delta)\n",
    "            empirical_estimate_mean[idx] = np.mean(risk_delta)\n",
    "            empirical_estimate_std[idx] = np.std(risk_delta)\n",
    "        results.append({\n",
    "            'th_estimate': theoretical_estimate.copy(),\n",
    "            'means': empirical_estimate_mean.copy(),\n",
    "            'stds': empirical_estimate_std.copy(),\n",
    "            'evals_R3': evals_R3,\n",
    "            'evals_R4': evals_R4,\n",
    "            'risk_deltas': risk_deltas\n",
    "        })\n",
    "    return results\n",
    "\n",
    "def risk(U, V, X, Y, kernel=None, Xtest=None, Ytest=None):\n",
    "    inv_n = X.shape[0] ** -1\n",
    "    if (Xtest is not None) and (Ytest is not None):\n",
    "        K_Xtest = kernel(X, Xtest)\n",
    "        Y_hat = inv_n * (K_Xtest.T @ V @ U.T @ Y)\n",
    "        Y = Ytest\n",
    "    else:\n",
    "        K_X = kernel(X)\n",
    "        Y_hat = inv_n * (K_X.T @ V @ U.T @ Y)\n",
    "    err = Y - Y_hat\n",
    "    return (err.shape[0] ** -1) * torch.trace(err@err.T)\n",
    "\n",
    "# I will realize a prototypical low-rank matrix using a sigmoid function\n",
    "def make_rand_mat(dim, decay_len, rank, seed = None):\n",
    "    x = np.arange(dim)\n",
    "    x-= rank\n",
    "    eigenvalues = expit(-x*6/decay_len)\n",
    "    U = scipy.stats.special_ortho_group.rvs(dim, random_state=seed)\n",
    "    return np.linalg.multi_dot([U, np.diag(eigenvalues), U.T])\n",
    "\n",
    "def make_dataset(mat, num_samples, sigma = 0.05, seed = None):\n",
    "    dim = mat.shape[0]\n",
    "    rng = np.random.default_rng(seed)\n",
    "    X = rng.multivariate_normal(np.zeros(dim), np.eye(dim), size=num_samples)\n",
    "    Y = (mat@X.T).T + rng.normal(0, sigma, size=(num_samples, dim))\n",
    "    return frnp(X,device,dtype), frnp(Y,device,dtype)\n",
    "\n",
    "def time_fn_execution(f, args, num_repetitions):\n",
    "    times = np.zeros(num_repetitions)\n",
    "    risk_train = np.zeros(num_repetitions)\n",
    "    risk_test = np.zeros(num_repetitions)\n",
    "    for rep_idx in tqdm(np.arange(num_repetitions), total=num_repetitions):\n",
    "        if 'rng_seed' in args.keys():\n",
    "            args['rng_seed'] = rep_idx\n",
    "        _start = perf_counter()\n",
    "        U, V = f(**args) #time it\n",
    "        _stop = perf_counter()\n",
    "        times[rep_idx] = _stop - _start\n",
    "        risk_train[rep_idx] = risk(U, V, X, Y, kernel=kernel)\n",
    "        risk_test[rep_idx] = risk(U, V, X, Y, kernel=kernel, Xtest=Xtest, Ytest=Ytest)\n",
    "    return times, risk_train, risk_test\n",
    "\n",
    "def estimator_eig(\n",
    "        U: torch.TensorType,  # Projection matrix: first output of the fit functions defined above\n",
    "        V: torch.TensorType,  # Projection matrix: second output of the fit functions defined above\n",
    "        K_YX: torch.TensorType  # Kernel matrix between the output data and the input data\n",
    ") -> torch.TensorType:\n",
    "    # Z.TUV.TS -> U.T K_YX V (right ev = SUvr, left ev = ZVvl)\n",
    "    r_dim = (K_YX.shape[1]) ** (-1)\n",
    "    W_YX = torch.linalg.multi_dot([U.T, r_dim * K_YX, V])\n",
    "    values, _ = eig(tonp(W_YX, cuda))\n",
    "    values = values.real\n",
    "    r_perm = np.argsort(values)\n",
    "    values = values[r_perm]\n",
    "    return values"
   ],
   "metadata": {
    "collapsed": false,
    "ExecuteTime": {
     "end_time": "2024-01-23T15:45:00.108504Z",
     "start_time": "2024-01-23T15:45:00.100923Z"
    }
   },
   "id": "95b21f05373e2722",
   "execution_count": 2
  },
  {
   "cell_type": "markdown",
   "source": [
    "### Running first experiment (Figure 1)"
   ],
   "metadata": {
    "collapsed": false
   },
   "id": "293f92e05cc7d066"
  },
  {
   "cell_type": "code",
   "outputs": [
    {
     "name": "stdout",
     "output_type": "stream",
     "text": [
      "Currently processing: rank\n"
     ]
    },
    {
     "name": "stderr",
     "output_type": "stream",
     "text": [
      "  0%|          | 0/11 [00:00<?, ?it/s]WARNING:root:The computed projector is not real. The Kernel matrix is severely ill-conditioned.\n",
      "/tmp/ipykernel_80743/2791587126.py:62: ComplexWarning: Casting complex values to real discards the imaginary part\n",
      "  theoretical_estimate[idx] = th_estimate\n",
      "  9%|▉         | 1/11 [02:20<23:25, 140.56s/it]WARNING:root:The computed projector is not real. The Kernel matrix is severely ill-conditioned.\n",
      "/tmp/ipykernel_80743/2791587126.py:62: ComplexWarning: Casting complex values to real discards the imaginary part\n",
      "  theoretical_estimate[idx] = th_estimate\n",
      " 18%|█▊        | 2/11 [04:39<20:57, 139.73s/it]WARNING:root:The computed projector is not real. The Kernel matrix is severely ill-conditioned.\n",
      "/tmp/ipykernel_80743/2791587126.py:62: ComplexWarning: Casting complex values to real discards the imaginary part\n",
      "  theoretical_estimate[idx] = th_estimate\n",
      " 27%|██▋       | 3/11 [06:58<18:34, 139.33s/it]WARNING:root:The computed projector is not real. The Kernel matrix is severely ill-conditioned.\n",
      "/tmp/ipykernel_80743/2791587126.py:62: ComplexWarning: Casting complex values to real discards the imaginary part\n",
      "  theoretical_estimate[idx] = th_estimate\n",
      " 36%|███▋      | 4/11 [09:17<16:14, 139.28s/it]WARNING:root:The computed projector is not real. The Kernel matrix is severely ill-conditioned.\n",
      "/tmp/ipykernel_80743/2791587126.py:62: ComplexWarning: Casting complex values to real discards the imaginary part\n",
      "  theoretical_estimate[idx] = th_estimate\n",
      " 45%|████▌     | 5/11 [11:40<14:03, 140.55s/it]WARNING:root:The computed projector is not real. The Kernel matrix is severely ill-conditioned.\n",
      "/tmp/ipykernel_80743/2791587126.py:62: ComplexWarning: Casting complex values to real discards the imaginary part\n",
      "  theoretical_estimate[idx] = th_estimate\n",
      " 55%|█████▍    | 6/11 [13:57<11:35, 139.18s/it]WARNING:root:The computed projector is not real. The Kernel matrix is severely ill-conditioned.\n",
      "/tmp/ipykernel_80743/2791587126.py:62: ComplexWarning: Casting complex values to real discards the imaginary part\n",
      "  theoretical_estimate[idx] = th_estimate\n",
      " 64%|██████▎   | 7/11 [16:20<09:22, 140.51s/it]WARNING:root:The computed projector is not real. The Kernel matrix is severely ill-conditioned.\n",
      "/tmp/ipykernel_80743/2791587126.py:62: ComplexWarning: Casting complex values to real discards the imaginary part\n",
      "  theoretical_estimate[idx] = th_estimate\n",
      " 73%|███████▎  | 8/11 [18:40<07:00, 140.32s/it]WARNING:root:The computed projector is not real. The Kernel matrix is severely ill-conditioned.\n",
      "/tmp/ipykernel_80743/2791587126.py:62: ComplexWarning: Casting complex values to real discards the imaginary part\n",
      "  theoretical_estimate[idx] = th_estimate\n",
      " 82%|████████▏ | 9/11 [21:00<04:40, 140.17s/it]WARNING:root:The computed projector is not real. The Kernel matrix is severely ill-conditioned.\n",
      "/tmp/ipykernel_80743/2791587126.py:62: ComplexWarning: Casting complex values to real discards the imaginary part\n",
      "  theoretical_estimate[idx] = th_estimate\n",
      " 91%|█████████ | 10/11 [23:18<02:19, 139.67s/it]WARNING:root:The computed projector is not real. The Kernel matrix is severely ill-conditioned.\n",
      "/tmp/ipykernel_80743/2791587126.py:62: ComplexWarning: Casting complex values to real discards the imaginary part\n",
      "  theoretical_estimate[idx] = th_estimate\n",
      "100%|██████████| 11/11 [25:41<00:00, 140.17s/it]\n",
      "  0%|          | 0/11 [00:00<?, ?it/s]WARNING:root:The computed projector is not real. The Kernel matrix is severely ill-conditioned.\n",
      "/tmp/ipykernel_80743/2791587126.py:62: ComplexWarning: Casting complex values to real discards the imaginary part\n",
      "  theoretical_estimate[idx] = th_estimate\n",
      "  9%|▉         | 1/11 [00:26<04:27, 26.78s/it]WARNING:root:The computed projector is not real. The Kernel matrix is severely ill-conditioned.\n",
      "/tmp/ipykernel_80743/2791587126.py:62: ComplexWarning: Casting complex values to real discards the imaginary part\n",
      "  theoretical_estimate[idx] = th_estimate\n",
      " 18%|█▊        | 2/11 [00:53<03:59, 26.64s/it]WARNING:root:The computed projector is not real. The Kernel matrix is severely ill-conditioned.\n",
      "/tmp/ipykernel_80743/2791587126.py:62: ComplexWarning: Casting complex values to real discards the imaginary part\n",
      "  theoretical_estimate[idx] = th_estimate\n",
      " 27%|██▋       | 3/11 [01:18<03:26, 25.81s/it]WARNING:root:The computed projector is not real. The Kernel matrix is severely ill-conditioned.\n",
      "/tmp/ipykernel_80743/2791587126.py:62: ComplexWarning: Casting complex values to real discards the imaginary part\n",
      "  theoretical_estimate[idx] = th_estimate\n",
      " 36%|███▋      | 4/11 [01:44<03:02, 26.04s/it]WARNING:root:The computed projector is not real. The Kernel matrix is severely ill-conditioned.\n",
      "/tmp/ipykernel_80743/2791587126.py:62: ComplexWarning: Casting complex values to real discards the imaginary part\n",
      "  theoretical_estimate[idx] = th_estimate\n",
      " 45%|████▌     | 5/11 [02:09<02:34, 25.78s/it]WARNING:root:The computed projector is not real. The Kernel matrix is severely ill-conditioned.\n",
      "/tmp/ipykernel_80743/2791587126.py:62: ComplexWarning: Casting complex values to real discards the imaginary part\n",
      "  theoretical_estimate[idx] = th_estimate\n",
      " 55%|█████▍    | 6/11 [02:35<02:08, 25.71s/it]WARNING:root:The computed projector is not real. The Kernel matrix is severely ill-conditioned.\n",
      "/tmp/ipykernel_80743/2791587126.py:62: ComplexWarning: Casting complex values to real discards the imaginary part\n",
      "  theoretical_estimate[idx] = th_estimate\n",
      " 64%|██████▎   | 7/11 [03:00<01:42, 25.57s/it]WARNING:root:The computed projector is not real. The Kernel matrix is severely ill-conditioned.\n",
      "/tmp/ipykernel_80743/2791587126.py:62: ComplexWarning: Casting complex values to real discards the imaginary part\n",
      "  theoretical_estimate[idx] = th_estimate\n",
      " 73%|███████▎  | 8/11 [03:27<01:18, 26.07s/it]WARNING:root:The computed projector is not real. The Kernel matrix is severely ill-conditioned.\n",
      "/tmp/ipykernel_80743/2791587126.py:62: ComplexWarning: Casting complex values to real discards the imaginary part\n",
      "  theoretical_estimate[idx] = th_estimate\n",
      " 82%|████████▏ | 9/11 [03:55<00:52, 26.47s/it]WARNING:root:The computed projector is not real. The Kernel matrix is severely ill-conditioned.\n",
      "/tmp/ipykernel_80743/2791587126.py:62: ComplexWarning: Casting complex values to real discards the imaginary part\n",
      "  theoretical_estimate[idx] = th_estimate\n",
      " 91%|█████████ | 10/11 [04:22<00:26, 26.81s/it]WARNING:root:The computed projector is not real. The Kernel matrix is severely ill-conditioned.\n",
      "/tmp/ipykernel_80743/2791587126.py:62: ComplexWarning: Casting complex values to real discards the imaginary part\n",
      "  theoretical_estimate[idx] = th_estimate\n",
      "100%|██████████| 11/11 [04:50<00:00, 26.37s/it]\n"
     ]
    },
    {
     "name": "stdout",
     "output_type": "stream",
     "text": [
      "Currently processing: n_oversamples\n"
     ]
    },
    {
     "name": "stderr",
     "output_type": "stream",
     "text": [
      "  0%|          | 0/9 [00:00<?, ?it/s]WARNING:root:The computed projector is not real. The Kernel matrix is severely ill-conditioned.\n",
      "/tmp/ipykernel_80743/2791587126.py:62: ComplexWarning: Casting complex values to real discards the imaginary part\n",
      "  theoretical_estimate[idx] = th_estimate\n",
      " 11%|█         | 1/9 [02:20<18:47, 140.98s/it]WARNING:root:The computed projector is not real. The Kernel matrix is severely ill-conditioned.\n",
      "/tmp/ipykernel_80743/2791587126.py:62: ComplexWarning: Casting complex values to real discards the imaginary part\n",
      "  theoretical_estimate[idx] = th_estimate\n",
      " 22%|██▏       | 2/9 [04:41<16:26, 140.96s/it]WARNING:root:The computed projector is not real. The Kernel matrix is severely ill-conditioned.\n",
      "/tmp/ipykernel_80743/2791587126.py:62: ComplexWarning: Casting complex values to real discards the imaginary part\n",
      "  theoretical_estimate[idx] = th_estimate\n",
      " 33%|███▎      | 3/9 [07:03<14:06, 141.08s/it]WARNING:root:The computed projector is not real. The Kernel matrix is severely ill-conditioned.\n",
      "/tmp/ipykernel_80743/2791587126.py:62: ComplexWarning: Casting complex values to real discards the imaginary part\n",
      "  theoretical_estimate[idx] = th_estimate\n",
      " 44%|████▍     | 4/9 [09:24<11:46, 141.32s/it]WARNING:root:The computed projector is not real. The Kernel matrix is severely ill-conditioned.\n",
      "/tmp/ipykernel_80743/2791587126.py:62: ComplexWarning: Casting complex values to real discards the imaginary part\n",
      "  theoretical_estimate[idx] = th_estimate\n",
      " 56%|█████▌    | 5/9 [11:47<09:27, 141.86s/it]WARNING:root:The computed projector is not real. The Kernel matrix is severely ill-conditioned.\n",
      "/tmp/ipykernel_80743/2791587126.py:62: ComplexWarning: Casting complex values to real discards the imaginary part\n",
      "  theoretical_estimate[idx] = th_estimate\n",
      " 67%|██████▋   | 6/9 [14:09<07:05, 141.93s/it]WARNING:root:The computed projector is not real. The Kernel matrix is severely ill-conditioned.\n",
      "/tmp/ipykernel_80743/2791587126.py:62: ComplexWarning: Casting complex values to real discards the imaginary part\n",
      "  theoretical_estimate[idx] = th_estimate\n",
      " 78%|███████▊  | 7/9 [16:30<04:42, 141.50s/it]WARNING:root:The computed projector is not real. The Kernel matrix is severely ill-conditioned.\n",
      "/tmp/ipykernel_80743/2791587126.py:62: ComplexWarning: Casting complex values to real discards the imaginary part\n",
      "  theoretical_estimate[idx] = th_estimate\n",
      " 89%|████████▉ | 8/9 [18:52<02:21, 141.69s/it]WARNING:root:The computed projector is not real. The Kernel matrix is severely ill-conditioned.\n",
      "/tmp/ipykernel_80743/2791587126.py:62: ComplexWarning: Casting complex values to real discards the imaginary part\n",
      "  theoretical_estimate[idx] = th_estimate\n",
      "100%|██████████| 9/9 [21:15<00:00, 141.73s/it]\n",
      "  0%|          | 0/9 [00:00<?, ?it/s]WARNING:root:The computed projector is not real. The Kernel matrix is severely ill-conditioned.\n",
      "/tmp/ipykernel_80743/2791587126.py:62: ComplexWarning: Casting complex values to real discards the imaginary part\n",
      "  theoretical_estimate[idx] = th_estimate\n",
      " 11%|█         | 1/9 [00:26<03:29, 26.18s/it]WARNING:root:The computed projector is not real. The Kernel matrix is severely ill-conditioned.\n",
      "/tmp/ipykernel_80743/2791587126.py:62: ComplexWarning: Casting complex values to real discards the imaginary part\n",
      "  theoretical_estimate[idx] = th_estimate\n",
      " 22%|██▏       | 2/9 [00:52<03:01, 25.99s/it]WARNING:root:The computed projector is not real. The Kernel matrix is severely ill-conditioned.\n",
      "/tmp/ipykernel_80743/2791587126.py:62: ComplexWarning: Casting complex values to real discards the imaginary part\n",
      "  theoretical_estimate[idx] = th_estimate\n",
      " 33%|███▎      | 3/9 [01:19<02:38, 26.49s/it]WARNING:root:The computed projector is not real. The Kernel matrix is severely ill-conditioned.\n",
      "/tmp/ipykernel_80743/2791587126.py:62: ComplexWarning: Casting complex values to real discards the imaginary part\n",
      "  theoretical_estimate[idx] = th_estimate\n",
      " 44%|████▍     | 4/9 [01:45<02:12, 26.53s/it]WARNING:root:The computed projector is not real. The Kernel matrix is severely ill-conditioned.\n",
      "/tmp/ipykernel_80743/2791587126.py:62: ComplexWarning: Casting complex values to real discards the imaginary part\n",
      "  theoretical_estimate[idx] = th_estimate\n",
      " 56%|█████▌    | 5/9 [02:12<01:46, 26.57s/it]WARNING:root:The computed projector is not real. The Kernel matrix is severely ill-conditioned.\n",
      "/tmp/ipykernel_80743/2791587126.py:62: ComplexWarning: Casting complex values to real discards the imaginary part\n",
      "  theoretical_estimate[idx] = th_estimate\n",
      " 67%|██████▋   | 6/9 [02:39<01:19, 26.64s/it]WARNING:root:The computed projector is not real. The Kernel matrix is severely ill-conditioned.\n",
      "/tmp/ipykernel_80743/2791587126.py:62: ComplexWarning: Casting complex values to real discards the imaginary part\n",
      "  theoretical_estimate[idx] = th_estimate\n",
      " 78%|███████▊  | 7/9 [03:06<00:53, 26.74s/it]WARNING:root:The computed projector is not real. The Kernel matrix is severely ill-conditioned.\n",
      "/tmp/ipykernel_80743/2791587126.py:62: ComplexWarning: Casting complex values to real discards the imaginary part\n",
      "  theoretical_estimate[idx] = th_estimate\n",
      " 89%|████████▉ | 8/9 [03:32<00:26, 26.65s/it]WARNING:root:The computed projector is not real. The Kernel matrix is severely ill-conditioned.\n",
      "/tmp/ipykernel_80743/2791587126.py:62: ComplexWarning: Casting complex values to real discards the imaginary part\n",
      "  theoretical_estimate[idx] = th_estimate\n",
      "100%|██████████| 9/9 [04:00<00:00, 26.71s/it]\n"
     ]
    }
   ],
   "source": [
    "cuda = False\n",
    "double_precision = True\n",
    "device = 'cuda' if cuda else 'cpu'\n",
    "torch.set_default_device(device)\n",
    "dtype = torch.DoubleTensor if double_precision else torch.FloatTensor\n",
    "torch.set_default_tensor_type(dtype)\n",
    "\n",
    "seed = 0\n",
    "num_repetitions = 1000\n",
    "ndim = 100\n",
    "num_samples = 1000\n",
    "decay_len = 5\n",
    "rank = 10\n",
    "\n",
    "#Generation of the low-rank estimator A + Generation of the dataset\n",
    "A = make_rand_mat(ndim, decay_len, rank, seed=seed)\n",
    "X, Y = make_dataset(A, num_samples, sigma=0.1, seed=seed)\n",
    "\n",
    "#Parameter grid\n",
    "looping_parameters = [\n",
    "    {'name': 'rank',\n",
    "     'human_name': 'Rank',\n",
    "                   'params_grid': ParameterGrid({'tikhonov_reg': [1e-6],\n",
    "                    'rank': np.arange(11, dtype=int) + 5,\n",
    "                    'n_oversamples': [5],\n",
    "                    'iterated_power': [1]})},\n",
    "    {'name': 'n_oversamples',\n",
    "     'human_name': r'Oversamples $s$',\n",
    "                   'params_grid': ParameterGrid({'tikhonov_reg': [1e-6],\n",
    "                    'rank': [5],\n",
    "                    'n_oversamples': np.arange(9, dtype=int) + 2,\n",
    "                    'iterated_power': [1]})}\n",
    "]\n",
    "\n",
    "results = copy.deepcopy(looping_parameters)\n",
    "for idx, parameter in enumerate(looping_parameters):\n",
    "    print(f\"Currently processing: {parameter['name']}\")\n",
    "    results[idx]['results'] = benchmark_loop(X, Y, parameter['params_grid'])\n",
    "\n",
    "pickle.dump(results, open('randRRR_errorbounds_dual_'+device+'.pkl', 'wb'))"
   ],
   "metadata": {
    "collapsed": false,
    "ExecuteTime": {
     "end_time": "2024-01-23T16:41:53.113058Z",
     "start_time": "2024-01-23T15:46:05.117350Z"
    }
   },
   "id": "26634587a5207baf",
   "execution_count": 4
  },
  {
   "cell_type": "markdown",
   "source": [
    "### Plotting Figure 1"
   ],
   "metadata": {
    "collapsed": false
   },
   "id": "cffc793d840e1df6"
  },
  {
   "cell_type": "code",
   "outputs": [],
   "source": [
    "import matplotlib.pyplot as plt\n",
    "plt.rcParams.update({\n",
    "    # \"text.usetex\": True,\n",
    "    # \"text.latex.preamble\": r'\\usepackage{amssymb}',\n",
    "    # \"mathtext.fontset\": \"dejavuserif\",\n",
    "    # \"font.family\": \"serif\",\n",
    "    # \"font.serif\": [\"Times\"],\n",
    "    \"font.size\": 8,\n",
    "    \"axes.titlesize\": 8,\n",
    "    \"xtick.labelsize\": 7,\n",
    "    \"ytick.labelsize\": 7,\n",
    "    \"legend.fontsize\": 7,\n",
    "})\n",
    "cycle = plt.rcParams['axes.prop_cycle'].by_key()['color']\n",
    "\n",
    "def mean_confidence_interval(data, confidence=0.95):\n",
    "    a = 1.0 * np.array(data)\n",
    "    n = len(a)\n",
    "    m, se = np.mean(a,axis=1), scipy.stats.sem(a, axis=1)\n",
    "    h = se * scipy.stats.t.ppf((1 + confidence) / 2., n-1)\n",
    "    return m, m-h, m+h"
   ],
   "metadata": {
    "collapsed": false,
    "ExecuteTime": {
     "end_time": "2024-01-23T16:55:27.063104Z",
     "start_time": "2024-01-23T16:55:26.695840Z"
    }
   },
   "id": "df22cd4d5d52be34",
   "execution_count": 5
  },
  {
   "cell_type": "code",
   "outputs": [
    {
     "data": {
      "text/plain": "<Figure size 400x175 with 2 Axes>",
      "image/png": "[encoded data removed]"
     },
     "metadata": {},
     "output_type": "display_data"
    }
   ],
   "source": [
    "data = pickle.load(open(\"randRRR_errorbounds_dual_cpu.pkl\", \"rb\"))\n",
    "\n",
    "bounds_labels = ['LHS of Eq. (4.5)', 'LHS of Eq. (4.10)']\n",
    "risks_labels = ['RHS of Eq. (4.5)', 'RHS of Eq. (4.10)']\n",
    "x_labels = ['Rank $r$', 'Oversamples $s$']\n",
    "\n",
    "fig_width = 4 #Inches\n",
    "fig_height = 1.75 #Inches\n",
    "\n",
    "fig, axes = plt.subplots(ncols=len(data),figsize=(fig_width, fig_height))\n",
    "\n",
    "for idx in range(len(data)):\n",
    "    ax = axes[idx]\n",
    "    results = data[idx]['results'] \n",
    "    values = data[idx]['params_grid'].param_grid[0][data[idx]['name']]\n",
    "    for data_idx, sampling_strategy in enumerate(results):\n",
    "        th_estimate = sampling_strategy['th_estimate']\n",
    "        means = sampling_strategy['means']\n",
    "        stds = sampling_strategy['stds']\n",
    "        means, risk_min, risk_max = mean_confidence_interval(sampling_strategy['risk_deltas'], confidence=0.95)\n",
    "        \n",
    "        if idx == 0:\n",
    "            ax.plot(values, th_estimate, '-', color=cycle[data_idx])\n",
    "            ax.plot(values, means, '--', color=cycle[data_idx])\n",
    "        else:\n",
    "            ax.plot(values, th_estimate, '-', color=cycle[data_idx], label=risks_labels[data_idx])\n",
    "            ax.plot(values, means, '--', color=cycle[data_idx], label=bounds_labels[data_idx])\n",
    "\n",
    "        ax.fill_between(values, risk_min, risk_max, alpha=0.3, color=cycle[data_idx], linewidth=0)\n",
    "\n",
    "    ax.set_xlabel(x_labels[idx])\n",
    "    ax.set_yscale('log')\n",
    "    ax.set_xmargin(0)\n",
    "    ax.set_ylim(2e-7, 40)\n",
    "\n",
    "fig.legend(bbox_to_anchor=(0.97, 0.97, .28, -0.05), borderaxespad=0, loc='upper left', mode='expand', ncol=1, frameon=False)\n",
    "plt.tight_layout()\n",
    "fig.savefig(\"randRRR_errorbounds_dual_cpu.pdf\",  bbox_inches='tight')"
   ],
   "metadata": {
    "collapsed": false,
    "ExecuteTime": {
     "end_time": "2024-01-23T16:56:53.300024Z",
     "start_time": "2024-01-23T16:56:52.550383Z"
    }
   },
   "id": "52f514e623165763",
   "execution_count": 6
  },
  {
   "cell_type": "markdown",
   "source": [
    "### Running second experiment (Figure 2)"
   ],
   "metadata": {
    "collapsed": false
   },
   "id": "8a8ffab6efda7d54"
  },
  {
   "cell_type": "code",
   "outputs": [
    {
     "name": "stdout",
     "output_type": "stream",
     "text": [
      "Currently processing num_samples: 100\n"
     ]
    },
    {
     "name": "stderr",
     "output_type": "stream",
     "text": [
      "100%|██████████| 10/10 [00:00<00:00, 77.37it/s]\n",
      "100%|██████████| 10/10 [00:00<00:00, 305.50it/s]\n"
     ]
    },
    {
     "name": "stdout",
     "output_type": "stream",
     "text": [
      "Currently processing num_samples: 200\n"
     ]
    },
    {
     "name": "stderr",
     "output_type": "stream",
     "text": [
      "100%|██████████| 10/10 [00:00<00:00, 62.20it/s]\n",
      "100%|██████████| 10/10 [00:00<00:00, 223.71it/s]\n"
     ]
    },
    {
     "name": "stdout",
     "output_type": "stream",
     "text": [
      "Currently processing num_samples: 300\n"
     ]
    },
    {
     "name": "stderr",
     "output_type": "stream",
     "text": [
      "100%|██████████| 10/10 [00:00<00:00, 52.71it/s]\n",
      "100%|██████████| 10/10 [00:00<00:00, 187.09it/s]\n"
     ]
    },
    {
     "name": "stdout",
     "output_type": "stream",
     "text": [
      "Currently processing num_samples: 400\n"
     ]
    },
    {
     "name": "stderr",
     "output_type": "stream",
     "text": [
      "100%|██████████| 10/10 [00:00<00:00, 40.71it/s]\n",
      "100%|██████████| 10/10 [00:00<00:00, 151.17it/s]\n"
     ]
    },
    {
     "name": "stdout",
     "output_type": "stream",
     "text": [
      "Currently processing num_samples: 500\n"
     ]
    },
    {
     "name": "stderr",
     "output_type": "stream",
     "text": [
      "100%|██████████| 10/10 [00:00<00:00, 33.93it/s]\n",
      "100%|██████████| 10/10 [00:00<00:00, 122.10it/s]\n"
     ]
    },
    {
     "name": "stdout",
     "output_type": "stream",
     "text": [
      "Currently processing num_samples: 600\n"
     ]
    },
    {
     "name": "stderr",
     "output_type": "stream",
     "text": [
      "100%|██████████| 10/10 [00:00<00:00, 26.99it/s]\n",
      "100%|██████████| 10/10 [00:00<00:00, 101.09it/s]\n"
     ]
    },
    {
     "name": "stdout",
     "output_type": "stream",
     "text": [
      "Currently processing num_samples: 700\n"
     ]
    },
    {
     "name": "stderr",
     "output_type": "stream",
     "text": [
      "100%|██████████| 10/10 [00:00<00:00, 21.66it/s]\n",
      "100%|██████████| 10/10 [00:00<00:00, 80.80it/s]\n"
     ]
    },
    {
     "name": "stdout",
     "output_type": "stream",
     "text": [
      "Currently processing num_samples: 800\n"
     ]
    },
    {
     "name": "stderr",
     "output_type": "stream",
     "text": [
      "100%|██████████| 10/10 [00:00<00:00, 15.84it/s]\n",
      "100%|██████████| 10/10 [00:00<00:00, 67.51it/s]\n"
     ]
    },
    {
     "name": "stdout",
     "output_type": "stream",
     "text": [
      "Currently processing num_samples: 900\n"
     ]
    },
    {
     "name": "stderr",
     "output_type": "stream",
     "text": [
      "100%|██████████| 10/10 [00:00<00:00, 10.94it/s]\n",
      "100%|██████████| 10/10 [00:00<00:00, 55.09it/s]\n"
     ]
    },
    {
     "name": "stdout",
     "output_type": "stream",
     "text": [
      "Currently processing num_samples: 1000\n"
     ]
    },
    {
     "name": "stderr",
     "output_type": "stream",
     "text": [
      "100%|██████████| 10/10 [00:01<00:00,  8.16it/s]\n",
      "100%|██████████| 10/10 [00:00<00:00, 43.59it/s]\n"
     ]
    },
    {
     "name": "stdout",
     "output_type": "stream",
     "text": [
      "Currently processing num_samples: 2000\n"
     ]
    },
    {
     "name": "stderr",
     "output_type": "stream",
     "text": [
      "100%|██████████| 10/10 [00:07<00:00,  1.32it/s]\n",
      "100%|██████████| 10/10 [00:00<00:00, 10.66it/s]\n"
     ]
    },
    {
     "name": "stdout",
     "output_type": "stream",
     "text": [
      "Currently processing num_samples: 3000\n"
     ]
    },
    {
     "name": "stderr",
     "output_type": "stream",
     "text": [
      "100%|██████████| 10/10 [00:17<00:00,  1.78s/it]\n",
      "100%|██████████| 10/10 [00:02<00:00,  4.73it/s]\n"
     ]
    },
    {
     "name": "stdout",
     "output_type": "stream",
     "text": [
      "Currently processing num_samples: 4000\n"
     ]
    },
    {
     "name": "stderr",
     "output_type": "stream",
     "text": [
      "100%|██████████| 10/10 [00:33<00:00,  3.35s/it]\n",
      "100%|██████████| 10/10 [00:04<00:00,  2.45it/s]\n"
     ]
    },
    {
     "name": "stdout",
     "output_type": "stream",
     "text": [
      "Currently processing num_samples: 5000\n"
     ]
    },
    {
     "name": "stderr",
     "output_type": "stream",
     "text": [
      "100%|██████████| 10/10 [00:59<00:00,  5.96s/it]\n",
      "100%|██████████| 10/10 [00:06<00:00,  1.51it/s]\n"
     ]
    },
    {
     "name": "stdout",
     "output_type": "stream",
     "text": [
      "Currently processing num_samples: 6000\n"
     ]
    },
    {
     "name": "stderr",
     "output_type": "stream",
     "text": [
      "100%|██████████| 10/10 [01:26<00:00,  8.64s/it]\n",
      "100%|██████████| 10/10 [00:10<00:00,  1.05s/it]\n"
     ]
    },
    {
     "name": "stdout",
     "output_type": "stream",
     "text": [
      "Currently processing num_samples: 7000\n"
     ]
    },
    {
     "name": "stderr",
     "output_type": "stream",
     "text": [
      "100%|██████████| 10/10 [02:05<00:00, 12.59s/it]\n",
      "100%|██████████| 10/10 [00:14<00:00,  1.49s/it]\n"
     ]
    },
    {
     "name": "stdout",
     "output_type": "stream",
     "text": [
      "Currently processing num_samples: 8000\n"
     ]
    },
    {
     "name": "stderr",
     "output_type": "stream",
     "text": [
      "100%|██████████| 10/10 [02:53<00:00, 17.35s/it]\n",
      "100%|██████████| 10/10 [00:20<00:00,  2.01s/it]\n"
     ]
    },
    {
     "name": "stdout",
     "output_type": "stream",
     "text": [
      "Currently processing num_samples: 9000\n"
     ]
    },
    {
     "name": "stderr",
     "output_type": "stream",
     "text": [
      "100%|██████████| 10/10 [03:51<00:00, 23.18s/it]\n",
      "100%|██████████| 10/10 [00:26<00:00,  2.63s/it]\n"
     ]
    },
    {
     "name": "stdout",
     "output_type": "stream",
     "text": [
      "Currently processing num_samples: 10000\n"
     ]
    },
    {
     "name": "stderr",
     "output_type": "stream",
     "text": [
      "100%|██████████| 10/10 [05:01<00:00, 30.16s/it]\n",
      "100%|██████████| 10/10 [00:33<00:00,  3.37s/it]\n"
     ]
    }
   ],
   "source": [
    "cuda = False\n",
    "double_precision = True\n",
    "device = 'cuda' if cuda else 'cpu'\n",
    "torch.set_default_device(device)\n",
    "dtype = torch.DoubleTensor if double_precision else torch.FloatTensor\n",
    "torch.set_default_tensor_type(dtype)\n",
    "\n",
    "num_repetitions = 10\n",
    "ndim = 100\n",
    "num_samples_list = np.concatenate([np.arange(100, 1000, 100), np.arange(1000, 10001, 1000)])\n",
    "decay_len = 5\n",
    "rank = 10\n",
    "\n",
    "# Generation of the low-rank estimator A\n",
    "A = make_rand_mat(ndim, decay_len, rank, seed=0)\n",
    "Xtest, Ytest = make_dataset(A, 1000, sigma=0.1, seed=42)\n",
    "\n",
    "test_error_R3 = np.zeros(len(num_samples_list))\n",
    "test_error_R4 = np.zeros((len(num_samples_list), num_repetitions))\n",
    "train_error_R3 = np.zeros(len(num_samples_list))\n",
    "train_error_R4 = np.zeros((len(num_samples_list), num_repetitions))\n",
    "ET_R3 = np.zeros((len(num_samples_list), num_repetitions))\n",
    "ET_R4 = np.zeros((len(num_samples_list), num_repetitions))\n",
    "for rep_idx, num_samples in enumerate(num_samples_list):\n",
    "    print(f\"Currently processing num_samples: {num_samples}\")\n",
    "    #Generation of the low-rank estimator A\n",
    "    X, Y = make_dataset(A, num_samples, sigma=0.1, seed=0)\n",
    "\n",
    "    n = X.shape[0]\n",
    "    kernel = LinearKernel()\n",
    "    K_X = kernel(X)\n",
    "    K_Y = kernel(Y)\n",
    "\n",
    "    args = {'K_X': K_X, 'K_Y': K_Y, 'tikhonov_reg': 1e-6, 'rank': 15, 'svd_solver': 'arnoldi',\n",
    "            '_return_singular_values': False}\n",
    "    exec_time, _, _ = time_fn_execution(fit_R3, args, num_repetitions)\n",
    "    U_R3, V_R3 = fit_R3(**args)\n",
    "    train_error_R3[rep_idx] = risk(U_R3, V_R3, X, Y, kernel=kernel)\n",
    "    test_error_R3[rep_idx] = risk(U_R3, V_R3, X, Y, kernel=kernel, Xtest=Xtest, Ytest=Ytest)\n",
    "    ET_R3[rep_idx] = exec_time\n",
    "\n",
    "    args = {'K_X': K_X, 'K_Y': K_Y, 'tikhonov_reg': 1e-6, 'rank': 15, 'n_oversamples': 20, 'iterated_power': 1,\n",
    "            'rng_seed': None, 'optimal_sketching': False, '_return_singular_values': False}\n",
    "    exec_time, train_error, test_error = time_fn_execution(fit_R4, args, num_repetitions)\n",
    "    test_error_R4[rep_idx] = test_error\n",
    "    train_error_R4[rep_idx] = train_error\n",
    "    ET_R4[rep_idx, :] = exec_time\n",
    "\n",
    "results = {\n",
    "    'num_samples_list': num_samples_list.copy(),\n",
    "    'ET_R3': ET_R3.copy(),\n",
    "    'ET_R4': ET_R4.copy(),\n",
    "    'test_error_R3': test_error_R3.copy(),\n",
    "    'train_error_R3': train_error_R3.copy(),\n",
    "    'test_error_R4': test_error_R4.copy(),\n",
    "    'train_error_R4': train_error_R4.copy()\n",
    "}\n",
    "\n",
    "pickle.dump(results, open('randRRR_timings_dual_'+device+'.pkl', 'wb'))"
   ],
   "metadata": {
    "collapsed": false,
    "ExecuteTime": {
     "end_time": "2024-01-23T18:01:21.453454Z",
     "start_time": "2024-01-23T17:40:11.041188Z"
    }
   },
   "id": "5aefa4c38d2d8018",
   "execution_count": 9
  },
  {
   "cell_type": "markdown",
   "source": [
    "### Plotting Figure 2"
   ],
   "metadata": {
    "collapsed": false
   },
   "id": "30de237a27d50226"
  },
  {
   "cell_type": "code",
   "outputs": [
    {
     "data": {
      "text/plain": "<Figure size 600x200 with 3 Axes>",
      "image/png": "[encoded data removed]"
     },
     "metadata": {},
     "output_type": "display_data"
    }
   ],
   "source": [
    "data = pickle.load(open(\"randRRR_timings_dual_cpu.pkl\", \"rb\"))\n",
    "labels = ['Standard Normal sketching']\n",
    "\n",
    "fig_width = 6 #Inches\n",
    "fig_height = 2 #Inches\n",
    "\n",
    "fig, axs = plt.subplots(ncols=3,figsize=(fig_width, fig_height))\n",
    "\n",
    "skip = 0\n",
    "values = data['num_samples_list'][skip:]\n",
    "ET_R3 = data['ET_R3'][skip:]\n",
    "ET_R4 = data['ET_R4'][skip:]\n",
    "test_error_R3 = data['test_error_R3'][skip:]\n",
    "test_error_R4 = data['test_error_R4'][skip:]\n",
    "train_error_R3 = data['train_error_R3'][skip:]\n",
    "train_error_R4 = data['train_error_R4'][skip:]\n",
    "\n",
    "means_R3 = ET_R3.mean(axis=1)\n",
    "means_R4 = ET_R4.mean(axis=1)\n",
    "stds_R3 = ET_R3.std(axis=1)\n",
    "stds_R4 = ET_R4.std(axis=1)\n",
    "\n",
    "delta_test_error = test_error_R4 - test_error_R3[:,None]\n",
    "delta_train_error = train_error_R4 - train_error_R3[:,None]\n",
    "\n",
    "means_test_error, risk_min_test_error, risk_max_test_error = mean_confidence_interval(delta_test_error, confidence=0.95)\n",
    "means_train_error, risk_min_train_error, risk_max_train_error = mean_confidence_interval(delta_train_error, confidence=0.95)\n",
    "\n",
    "axs[0].plot(values, means_train_error, '-', color='black')\n",
    "axs[0].fill_between(values, risk_min_train_error, risk_max_train_error, alpha=0.3, color='black', linewidth=0)\n",
    "axs[0].set_title(\"Training\")\n",
    "axs[0].set_xlabel(\"Training samples $n$\")\n",
    "axs[0].set_xscale('log')\n",
    "axs[0].set_yscale('log')\n",
    "axs[0].set_xmargin(0)\n",
    "axs[0].set_ylabel(\"$\\mathbb{{E}}[\\mathcal{R}(\\mathrm{\\mathsf{R}}^4)] - \\mathcal{R}(\\mathrm{\\mathsf{R}}^3)$\")\n",
    "\n",
    "skip = 1\n",
    "axs[1].plot(values[skip:], means_test_error[skip:], '-', color='black')\n",
    "axs[1].fill_between(values[skip:], risk_min_test_error[skip:], risk_max_test_error[skip:], alpha=0.3, color='black', linewidth=0)\n",
    "axs[1].set_title(\"Test\")\n",
    "axs[1].set_xlabel(\"Training samples $n$\")\n",
    "axs[1].set_xscale('log')\n",
    "axs[1].set_xmargin(0)\n",
    "axs[1].set_ylabel(\"$\\mathbb{{E}}[\\mathcal{R}(\\mathrm{\\mathsf{R}}^4)] - \\mathcal{R}(\\mathrm{\\mathsf{R}}^3)$\")\n",
    "\n",
    "\n",
    "axs[2].plot(values, means_R3, '-', label='R$^3$', color=cycle[0])\n",
    "axs[2].fill_between(values, means_R3 - stds_R3, means_R3 + stds_R3, alpha=0.3, color=cycle[0], linewidth=0)\n",
    "axs[2].plot(values, means_R4, '-', label='R$^4$',color=cycle[1])\n",
    "axs[2].fill_between(values, means_R4 - stds_R4, means_R4 + stds_R4, alpha=0.3, color=cycle[1], linewidth=0)\n",
    "for i, el in enumerate(means_R3/means_R4):\n",
    "    if np.isin(values[i], [200, 500,1000,2000,5000]):\n",
    "        axs[2].text(values[i]*0.6, means_R3[i]*1.6, str(el)[:4]+'x', fontsize=6)\n",
    "        axs[2].scatter(values[i], means_R3[i], color=cycle[0], s=10)\n",
    "        axs[2].scatter(values[i], means_R4[i], color=cycle[1], s=10)\n",
    "        \n",
    "axs[2].set_title(\"Fit time\")\n",
    "axs[2].set_ylabel(\"s\")\n",
    "axs[2].set_xlabel(\"Training samples $n$\")\n",
    "axs[2].set_yscale('log')\n",
    "axs[2].set_xscale('log')\n",
    "axs[2].set_xmargin(0)\n",
    "axs[2].legend(frameon=False)\n",
    "\n",
    "plt.tight_layout()\n",
    "fig.savefig(\"results/toy_benchmark/randRRR_timings_cpu.pdf\",  bbox_inches='tight')"
   ],
   "metadata": {
    "collapsed": false,
    "ExecuteTime": {
     "end_time": "2024-01-23T18:03:08.335674Z",
     "start_time": "2024-01-23T18:03:06.170009Z"
    }
   },
   "id": "b1cc8e9df41be21",
   "execution_count": 11
  }
 ],
 "metadata": {
  "kernelspec": {
   "display_name": "Python 3",
   "language": "python",
   "name": "python3"
  },
  "language_info": {
   "codemirror_mode": {
    "name": "ipython",
    "version": 2
   },
   "file_extension": ".py",
   "mimetype": "text/x-python",
   "name": "python",
   "nbconvert_exporter": "python",
   "pygments_lexer": "ipython2",
   "version": "2.7.6"
  }
 },
 "nbformat": 4,
 "nbformat_minor": 5
}
